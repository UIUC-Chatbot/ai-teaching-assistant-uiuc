{
 "cells": [
  {
   "cell_type": "code",
   "execution_count": 260,
   "metadata": {},
   "outputs": [],
   "source": [
    "import gradio as gr\n",
    "import time"
   ]
  },
  {
   "cell_type": "code",
   "execution_count": 261,
   "metadata": {},
   "outputs": [],
   "source": [
    "def f1():\n",
    "    yield \"Hello\", \"Asmita\"\n",
    "    time.sleep(2)\n",
    "    yield \"two\" #, \"Asmita\")\n",
    "\n",
    "\n",
    "def wrapper():\n",
    "    \n",
    "    for i,ans in enumerate(f1()):\n",
    "        print(ans)\n",
    "        list = [gr.update() for j in range(2)]\n",
    "        list[i] = gr.update(value=ans)\n",
    "        print(list)\n",
    "        yield list\n",
    "        # if i == \"Hello\":\n",
    "        #     print(1)\n",
    "        #     yield gr.update(lines=8, value=\"This is a different text.\", visible=True)\n",
    "        # if i == \"two\":\n",
    "        #     print(2)\n",
    "        #     yield gr.update(value=\"This is another different text.\", visible=True)\n",
    "    \n",
    "    \n",
    "    \n",
    "#list(wrapper())"
   ]
  },
  {
   "cell_type": "code",
   "execution_count": 262,
   "metadata": {},
   "outputs": [],
   "source": [
    "with gr.Blocks() as input_blocks:\n",
    "    with gr.Row():\n",
    "        output = gr.Textbox(interactive=True)\n",
    "        output2 = gr.Textbox(interactive=True)\n",
    "        run = gr.Button(\"Search  🔍\", variant='primary')\n",
    "        event = run.click(fn=wrapper, outputs=[output, output2])"
   ]
  },
  {
   "cell_type": "code",
   "execution_count": 263,
   "metadata": {},
   "outputs": [
    {
     "data": {
      "text/plain": [
       "Gradio Blocks instance: 1 backend functions\n",
       "-------------------------------------------\n",
       "fn_index=0\n",
       " inputs:\n",
       " outputs:\n",
       " |-textbox\n",
       " |-textbox"
      ]
     },
     "execution_count": 263,
     "metadata": {},
     "output_type": "execute_result"
    }
   ],
   "source": [
    "input_blocks.queue(concurrency_count=2)  # limit concurrency"
   ]
  },
  {
   "cell_type": "code",
   "execution_count": 264,
   "metadata": {},
   "outputs": [
    {
     "name": "stdout",
     "output_type": "stream",
     "text": [
      "Running on local URL:  http://127.0.0.1:7932\n",
      "Running on public URL: https://8b1933c4-e54b-4a23.gradio.live\n",
      "\n",
      "This share link expires in 72 hours. For free permanent hosting and GPU upgrades (NEW!), check out Spaces: https://huggingface.co/spaces\n"
     ]
    },
    {
     "data": {
      "text/html": [
       "<div><iframe src=\"https://8b1933c4-e54b-4a23.gradio.live\" width=\"100%\" height=\"500\" allow=\"autoplay; camera; microphone; clipboard-read; clipboard-write;\" frameborder=\"0\" allowfullscreen></iframe></div>"
      ],
      "text/plain": [
       "<IPython.core.display.HTML object>"
      ]
     },
     "metadata": {},
     "output_type": "display_data"
    },
    {
     "data": {
      "text/plain": []
     },
     "execution_count": 264,
     "metadata": {},
     "output_type": "execute_result"
    },
    {
     "name": "stdout",
     "output_type": "stream",
     "text": [
      "Hello\n",
      "[{'value': 'Hello', '__type__': 'generic_update'}, {'__type__': 'generic_update'}]\n",
      "two\n",
      "[{'__type__': 'generic_update'}, {'value': 'two', '__type__': 'generic_update'}]\n"
     ]
    }
   ],
   "source": [
    "input_blocks.launch(share=True)"
   ]
  }
 ],
 "metadata": {
  "kernelspec": {
   "display_name": "base",
   "language": "python",
   "name": "python3"
  },
  "language_info": {
   "codemirror_mode": {
    "name": "ipython",
    "version": 3
   },
   "file_extension": ".py",
   "mimetype": "text/x-python",
   "name": "python",
   "nbconvert_exporter": "python",
   "pygments_lexer": "ipython3",
   "version": "3.10.8"
  },
  "orig_nbformat": 4,
  "vscode": {
   "interpreter": {
    "hash": "f84259a3b330308de677e904dd70af8e4d9960a0b20e6e297421ba1b1b840763"
   }
  }
 },
 "nbformat": 4,
 "nbformat_minor": 2
}
