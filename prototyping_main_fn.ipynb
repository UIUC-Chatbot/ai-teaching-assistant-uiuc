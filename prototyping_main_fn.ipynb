{
 "cells": [
  {
   "cell_type": "code",
   "execution_count": 3,
   "metadata": {},
   "outputs": [],
   "source": [
    "import sys\n",
    "import os\n",
    "sys.path.append(\"../data-generator\")\n",
    "sys.path.append(\"../info-retrieval\")\n",
    "import contriever.contriever_final # Asmita's contriever"
   ]
  },
  {
   "cell_type": "code",
   "execution_count": 4,
   "metadata": {},
   "outputs": [],
   "source": [
    "USER_QUESTION = 'What are the inputs and outputs of a Gray code counter?'\n",
    "NUM_ANSWERS_GENERATED = 5"
   ]
  },
  {
   "cell_type": "markdown",
   "metadata": {},
   "source": [
    "## Using Asmita's Contriever"
   ]
  },
  {
   "cell_type": "code",
   "execution_count": 5,
   "metadata": {},
   "outputs": [],
   "source": [
    "my_contriever = contriever.contriever_final.ContrieverCB()"
   ]
  },
  {
   "cell_type": "code",
   "execution_count": 8,
   "metadata": {},
   "outputs": [
    {
     "name": "stdout",
     "output_type": "stream",
     "text": [
      "{Example: A Two-Bit Gray Code Counter}Let's begin with a two-bit Gray code counter with no inputs.As we mentioned in Notes Set 2.1, a Gray code is a cycle over allbit patterns of a certain length in which consecutive patterns differin exactly one bit.For simplicity, our first few examples are based on counters anduse the internal stateof the FSM as the output values.  You should already knowhow to design combinational logic for the outputs if it were necessary.The inputs to a counter, if any, are typically limited to functionssuch as starting and stopping the counter, controlling the counting direction, and resetting the counter to a particular state.A fully-specified transition diagram for a two-bit Gray code counter appears below.With no inputs, the states simply form a loop, withthe counter moving from one state to the next each cycle.Each state in the diagram is marked with the internal state value S_1S_0 (before the ``/'') and the output Z_1Z_0 (after the ``/''), which are always equal for this counter.Based on the transition diagram, we can fill in the K-maps for the next-state values S_1^+ and S_0^+ as shown to the right of thetransition diagram, then derive algebraic expressions in the usual way to obtainS_1^+=S_0 and S_0^+={{S_1}}.We then use the next-state logic to develop the implementationshown on the far right, completing our first counter design.\n",
      "\n",
      "{Example: A Color Sequencer}Early graphics systems used a three-bit red-green-blue (RGB) encoding for colors.  The color mapping for such a system is shown tothe right.Imagine that you are charged with creating a counter to drive a lightthrough a sequence of colors.  The light takes an RGB input as justdescribed, and the desired pattern is{off (black)     yellow     violet     green     blue}You immediately recognize that you merely need a counter with fivestates.  How many flip-flops will we need?  At least three, since_2 (5)=3.  Given that we need three flip-flops, and that the colors we need to produce as{c|l}RGB& color 000& black001& blue010& green011& cyan100& red101& violet110& yellow111& whiteoutputs are all uniquebit patterns, we can again choose to use the counter's internal state directly as our output values.A fully-specified transition diagram for our color sequencerappears to the right.  The states again form a loop,and are marked with the internal state value S_2S_1S_0 and the output RGB.As before, we can use the transition diagram to fill in K-maps for the next-state values S_2^+, S_1^+, and S_0^+, as shown to the right.For each of the three states not included in our transition diagram,we have inserted x'sinto the K-maps to indicate ``don't care.'' As you know, we can treat each x as either a 0 or a 1, whicheverproduces better results (where ``better'' usually means simpler equations).  The terms that we have chosen for our algebraic equations are illustrated in the K-maps.  The x's within the ellipsesbecome 1s in the implementation, and the x's outside of the ellipsesbecome 0s.For our next-state logic, we obtain:{eqnarray*}S_2^+ &=& S_2 S_1 + {{S_1}} {{S_0}} S_1^+ &=& S_2 S_0 + {{S_1}} {{S_0}} S_0^+ &=& S_1{eqnarray*}Again our equations for S_2^+ and S_1^+ share a common term,which becomes a single AND gate in the implementation shown to theright.\n",
      "\n",
      "{Example: A Three-Bit Gray Code Counter}Now we'll add a third bit to our counter, but again use a Gray codeas the basis for the state sequence.A fully-specified transition diagram for such a counter appears to the right.  As before, with no inputs, the states simply form a loop, with the counter moving from one state to the next each cycle.Each state in the diagram is marked with the internal state value S_2S_1S_0 (before ``/'') and the output Z_2Z_1Z_0 (after ``/''). Based on the transition diagram, we can fill in the K-maps for the next-state values S_2^+, S_1^+, and S_0^+ as shown to the right, then derive algebraic expressions.  The results are more complex this time.For our next-state logic, we obtain:{eqnarray*}S_2^+ &=& S_2 S_0 + S_1 {{S_0}} S_1^+ &=& {{S_2}} S_0 + S_1 {{S_0}} S_0^+ &=& {{S_2}} {{S_1}} + S_2 S_1{eqnarray*}Notice that the equations for S_2^+ and S_1^+ share a common term,S_1{{S_0}}.This design does not allow much choice in developing good equations forthe next-state logic, but some designs may enable you to reduce the design complexity by explicitly identifying and making use of common algebraic terms and sub-expressions for different outputs.In modern design processes, identifying such opportunities is generallyperformed by a computer program, but it's important to understandhow they arise.  Note that the common term becomes a single AND gatein the implementation of our counter, as shown to the right.Looking at the counter's implementation diagram, notice that the verticallines carrying the current state values and their inverses back to thenext statelogic inputs have been carefully ordered to simplifyunderstanding the diagram.  In particular, they are ordered fromleft to right (on the left side of the figure) as {{S_0}}S_0{{S_1}}S_1{{S_2}}S_2.When designing any logic diagram, be sure to make use of a reasonableorder so as to make it easy for someone (including yourself!) to read and check the correctness of the logic.\n",
      "\n",
      "{Synchronous Counters}A { counter} is a clocked sequential circuit with a state diagramconsisting of a single logical cycle.Not all counters are synchronous.In other words, not all flip-flops in a counter are required to use the same clock signal.  A counter in which all flip-flops do utilize the same clocksignal is called a { synchronous counter}.  Except for a brief introduction to other types of counters in thenext section, our class focuses entirely on clocked synchronous designs,including counters. {The definition ignores transition arcs resulting from functionalit such as a reset signal that forces the counter back into an initial state, The design of synchronous counter circuits is a fairly straightforwardexercise given the desired cycle of output patterns. The task can be more complex if the internal state bitsare allowed to differ from the output bits, so for nowwe assume that output Z_i is equal to internal bit S_i.Note that distinction between internal states and outputs is necessary if any output pattern appears more than once in the desired cycle. The cycle of states shown to the right corresponds to thestates of a {3-bit} binary counter.  The numbers in the statesrepresent both internal state bits S_2S_1S_0 and output bits Z_2Z_1Z_0.We transcribe this diagram into the next-state table shown on the left below.We then write out {K-maps} forthe next state bits S_2^+, S_1^+, and S_0^+, as shown to the right,and use the {K-maps} to find expressions for these variables interms of the current state.{file=part3/figs/lec16-9.eps,width=1.5in}{{ccc|ccc}S_2& S_1& S_0& S_2^+& S_1^+& S_0^+ 0& 0& 0& 0& 0& 10& 0& 1& 0& 1& 00& 1& 0& 0& 1& 10& 1& 1& 1& 0& 01& 0& 0& 1& 0& 11& 0& 1& 1& 1& 01& 1& 0& 1& 1& 11& 1& 1& 0& 0& 0{file=part3/figs/sbin3-s2.eps,width=1in}{file=part3/figs/sbin3-s1.eps,width=1in}{file=part3/figs/sbin3-s0.eps,width=1in} {-10pt}{eqnarray*}S_2^+ =& {S_2}S_1S_0+S_2{S_1}+S_2{S_0} &= S_2(S_1S_0) S_1^+ =& S_1{S_0}+{S_1}S_0 &= S_1{S_0} S_0^+ =& {S_0} &= S_0 {eqnarray*}}The first form of the expression for each next-state variable istaken directly from the corresponding {K-map}.  We have rewritteneach expression to make the emerging pattern more obvious.We can also derive the pattern intuitively by asking the following:given a binary counter in state S_{N-1}S_{N-2} S_{j+1}S_jS_{j-1}S_1S_0, when does S_j change in the subsequent state?  The answer,of course, is that S_j changes when all of thebits below S_j are 1.  Otherwise, S_j remains thesame in the next state.  We thus write S_j^+=S_j (S_{j-1} S_1S_0) andimplement the counter as shown below for a {4-bit} design.Note that the usual order ofoutput bits along the bottom is reversed in the figure, with the mostsignificant bit at the right rather than the left.{{file=part3/figs/ser-gating.eps,width=4.5in}}The calculation of the left inputs to the XOR gates in the counter shown above is performed with a series of two-input AND gates.  Each of these gates AND'sanother flip-flop value into the product.  Thisapproach, called { serial gating}, implies that an {N-bit}counter requires more than {N-2} gate delaysto settle into the next state.  An alternative approach, called{ parallel gating}, calculates each input independently with asingle logic gate, as shown below.  The blue inputs to the AND gatefor S_3 highlight the difference from the previous figure (note thatthe two approaches differ only for bits S_3 and above).With parallel gating, the { fan-in} of the gates (the number of inputs)and the { fan-out} of the flip-flop outputs (number of other gatesinto which an output feeds) grow with the size of the counter.  In practice, large counters use a combination of these two approaches.{{file=part3/figs/par-gating.eps,width=4.5in}}\n",
      "\n",
      "{Completing the Specification}Now we need to think about how the system should behave if something outside of our initial expectations occurs.  Having drawn out a partialtransition diagram can help with this process, since we can use thediagram to systematically consider all possible input conditions fromall possible states.  The state table form can make the missingparts of the specification even more obvious.For our counter, the symmetry between counting states makes the problem substantially simpler.  Let's write out part of a list of states andpart of a state table with one counting state and one halt state, as shown to the right.Four values of the inputs HG are possible (recall that N bits allow 2^N possible patterns).We list the columns in Gray code order, since we may want totranscribe this table into K-maps later.{& first counting state& { COUNT A}& counting, output Z_1Z_0=00  first halted state&  { HALT A}& halted, output Z_1Z_0=00{c|cccc}&{HG}        state&            00&            01&          11&           10 { COUNT A}& { COUNT B}&   unspecified& unspecified& { HALT A} { HALT A}&  { HALT A}& { COUNT B}& unspecified&  unspecifiedLet's start with the { COUNT A} state.  We know that if neither button is pressed (HG=00), we want the counter to move to the { COUNT B} state.  And, if we press the``halt'' button (HG=10), we want the counter to move to the { HALT A}state.  What should happen if a user presses the ``go'' button (HG=01)?Or if the user presses both buttons (HG=11)?Answering these questions is part of fully specifying our design.  Wecan choose to leave some parts unspecified, but { any implementation ofour system will imply answers}, and thus we must be careful.We choose to ignore the ``go'' button while counting, and to have the``halt'' button override the ``go'' button.  Thus, if HG=01 when thecounter is in state { COUNT A}, the counter moves to state { COUNT B}.And, if HG=11, the counter moves to state { HALT A}.Use of explicit bit patterns for the inputs HG may help you to check that all four possible input values are covered from each state.  If you choose to use a transition diagram instead of a state table,you might even want to add four arcs from each state, each labeled with a specificvalue of HG.  When two arcs connect the same two states, we can either use multiple labels or can indicate bits that do not matter using a{ don't-care} symbol, x.  For example, the arc from state { COUNT A}to state { COUNT B} could be labeled HG=00,01 or HG=0x.  Thearc from state { COUNT A} to state { HALT A} could be labeledHG=10,11 or HG=1x.  We can also use logical expressions as labels,but such notation can obscure unspecified transitions.Now consider the state { HALT A}.  The transitions specified so farare that when we press ``go'' (HG=01), the counter moves to the { COUNT B} state, and that the counter remains halted in state { HALT A} if no buttons are pressed (HG=00).What if the ``halt'' button is pressed (HG=10), orboth buttons are pressed (HG=11)?  For consistency, we decide that``halt'' overrides ``go,'' but does nothing special if it alone is pressedwhile the counter is halted.  Thus, input patterns HG=10 and HG=11 also take state { HALT A} back to itself.Here the arc could be labeled HG=00,10,11 or, equivalently,HG=00,1x or HG=x0,11.To complete our design, we apply the same decisions that we made for the { COUNT A} state to all of the other counting states, and the decisions that we made for the { HALT A} state to all of the other halted states.  If we had chosen not to specify an answer, an implementationcould produce different behavior from the different countingand/or halted states, which might confuse a user.The resulting design appears to the right. \n"
     ]
    }
   ],
   "source": [
    "# my_contriever.generate_embeddings(\"../data-generator/prompt engineering/gpt-3 semantic search/1_top_quality.json\")\n",
    "contriever_contexts = my_contriever.retrieve_topk(\"What are the inputs and outputs of a Gray code counter?\", path_to_json = \"../data-generator/split_textbook/sections.json\", k = NUM_ANSWERS_GENERATED)\n",
    "\n",
    "top_context_list = list(contriever_contexts.values())\n",
    "for i, context in enumerate(top_context_list):\n",
    "    res = []\n",
    "    for sub in context:\n",
    "        res.append(sub.replace(\"\\n\", \"\"))\n",
    "    top_context_list[i] = \"\".join(res)\n",
    "print('\\n\\n'.join(top_context_list))"
   ]
  },
  {
   "cell_type": "markdown",
   "metadata": {},
   "source": [
    "### OPT"
   ]
  },
  {
   "cell_type": "code",
   "execution_count": null,
   "metadata": {},
   "outputs": [],
   "source": [
    "# clear cuda memory\n",
    "import gc\n",
    "import torch\n",
    "torch.cuda.empty_cache()\n",
    "gc.collect()"
   ]
  },
  {
   "cell_type": "code",
   "execution_count": null,
   "metadata": {},
   "outputs": [],
   "source": [
    "from transformers import GPT2Tokenizer, OPTForCausalLM\n",
    "import torch\n",
    "\n",
    "model = OPTForCausalLM.from_pretrained(\"facebook/opt-1.3b\") # opt-350m\n",
    "tokenizer = GPT2Tokenizer.from_pretrained(\"facebook/opt-1.3b\")\n",
    "# model.to(\"cuda\")"
   ]
  },
  {
   "cell_type": "code",
   "execution_count": null,
   "metadata": {},
   "outputs": [],
   "source": [
    "# Generate\n",
    "response_list = []\n",
    "for i in range(NUM_ANSWERS_GENERATED):\n",
    "  prompt = \"Please answer this person's question accurately, clearly and concicely. Context: \" + top_context_list[i] + '\\n' + \"Question: \" + USER_QUESTION + '\\n' + \"Answer: \"\n",
    "  inputs = tokenizer(prompt, return_tensors=\"pt\").to(\"cuda\")\n",
    "  model = model.to(\"cuda\")\n",
    "  \n",
    "  generate_ids = model.generate(inputs.input_ids, max_length=345, do_sample=True, top_k=50, top_p=0.95, temperature=0.95, num_return_sequences=1, repetition_penalty=1.2, length_penalty=1.2, pad_token_id=tokenizer.eos_token_id)\n",
    "  response = tokenizer.batch_decode(generate_ids, skip_special_tokens=True, clean_up_tokenization_spaces=False)[0]\n",
    "  opt_answer = response.split(\"Answer:\")[1]\n",
    "  response_list.append(opt_answer)\n",
    "  \n",
    "print('\\n---------------------------------NEXT---------------------------------\\n'.join(response_list))"
   ]
  },
  {
   "cell_type": "code",
   "execution_count": null,
   "metadata": {},
   "outputs": [],
   "source": [
    "print('\\n---------------------------------NEXT---------------------------------\\n'.join(response_list))"
   ]
  },
  {
   "cell_type": "markdown",
   "metadata": {},
   "source": [
    "### ReRanking (MS-Marco Cross Encoder)"
   ]
  },
  {
   "cell_type": "code",
   "execution_count": null,
   "metadata": {},
   "outputs": [],
   "source": [
    "from transformers import AutoTokenizer, AutoModelForSequenceClassification\n",
    "import torch\n",
    "\n",
    "model = AutoModelForSequenceClassification.from_pretrained('cross-encoder/ms-marco-MiniLM-L-6-v2')\n",
    "tokenizer = AutoTokenizer.from_pretrained('cross-encoder/ms-marco-MiniLM-L-6-v2')\n",
    "\n",
    "assert len([USER_QUESTION] * NUM_ANSWERS_GENERATED ) == len(response_list)\n",
    "\n",
    "features = tokenizer([USER_QUESTION] * NUM_ANSWERS_GENERATED, response_list,  padding=True, truncation=True, return_tensors=\"pt\")\n",
    "\n",
    "model.eval()\n",
    "with torch.no_grad():\n",
    "    scores = model(**features).logits\n",
    "    print(scores)"
   ]
  },
  {
   "cell_type": "markdown",
   "metadata": {},
   "source": [
    "#### Working!! Using Jerome's Doc-Query\n",
    "\n",
    "todo: figure out how to keep document in memory."
   ]
  },
  {
   "cell_type": "code",
   "execution_count": 6,
   "metadata": {},
   "outputs": [
    {
     "name": "stdout",
     "output_type": "stream",
     "text": [
      "huggingface/tokenizers: The current process just got forked, after parallelism has already been used. Disabling parallelism to avoid deadlocks...\n",
      "To disable this warning, you can either:\n",
      "\t- Avoid using `tokenizers` before the fork if possible\n",
      "\t- Explicitly set the environment variable TOKENIZERS_PARALLELISM=(true | false)\n",
      "huggingface/tokenizers: The current process just got forked, after parallelism has already been used. Disabling parallelism to avoid deadlocks...\n",
      "To disable this warning, you can either:\n",
      "\t- Avoid using `tokenizers` before the fork if possible\n",
      "\t- Explicitly set the environment variable TOKENIZERS_PARALLELISM=(true | false)\n",
      "huggingface/tokenizers: The current process just got forked, after parallelism has already been used. Disabling parallelism to avoid deadlocks...\n",
      "To disable this warning, you can either:\n",
      "\t- Avoid using `tokenizers` before the fork if possible\n",
      "\t- Explicitly set the environment variable TOKENIZERS_PARALLELISM=(true | false)\n",
      "Quotes from textbook: \n",
      "No, :  3.0541425076080486e-05\n",
      "No, :  3.6431545140658272e-06\n",
      "we do not have to restrict ourselves to non-negative numbers. :  9.00167478334879e-08\n",
      "This range of integers falls within the representable range :  4.4374765195698274e-08\n",
      "falls within the representable range for N-bit 2’s complement, :  2.578081037540869e-08\n"
     ]
    }
   ],
   "source": [
    "from docquery import document, pipeline\n",
    "import json\n",
    "import re\n",
    "import poppler\n",
    "\n",
    "\"\"\" Warning requires lots of memory and lots of dependencies.\"\"\"\n",
    "\n",
    "USER_QUESTION = \"What is the difference between a synchronous and asynchronous counter?\"\n",
    "NUM_ANSWERS_GENERATED = 5\n",
    "\n",
    "# Call the DocQuery class\n",
    "pipeline = pipeline('document-question-answering')\n",
    "doc = document.load_document(\"../data-generator/notes/Student_Notes_short.pdf\")\n",
    "# doc = document.load_document(\"../data-generator/notes/Student Notes.pdf\")\n",
    "answer = pipeline(question=USER_QUESTION, **doc.context, top_k=NUM_ANSWERS_GENERATED)\n",
    "# print(answer)\n",
    "print(\"Quotes from textbook: \")\n",
    "for item in answer:\n",
    "  print(item['answer'], \": \", item['score']) "
   ]
  },
  {
   "cell_type": "code",
   "execution_count": 7,
   "metadata": {},
   "outputs": [
    {
     "name": "stdout",
     "output_type": "stream",
     "text": [
      "Quotes from textbook: \n",
      "No, :  3.0541425076080486e-05\n",
      "No, :  3.6431545140658272e-06\n",
      "we do not have to restrict ourselves to non-negative numbers. :  9.00167478334879e-08\n",
      "This range of integers falls within the representable range :  4.4374765195698274e-08\n",
      "falls within the representable range for N-bit 2’s complement, :  2.578081037540869e-08\n"
     ]
    }
   ],
   "source": [
    "answer = pipeline(question=USER_QUESTION, **doc.context, top_k=NUM_ANSWERS_GENERATED)\n",
    "# print(answer)\n",
    "print(\"Quotes from textbook: \")\n",
    "for item in answer:\n",
    "  print(item['answer'], \": \", item['score']) "
   ]
  },
  {
   "cell_type": "code",
   "execution_count": null,
   "metadata": {},
   "outputs": [],
   "source": []
  },
  {
   "cell_type": "markdown",
   "metadata": {},
   "source": [
    "# Try running this 👇 This works running our main"
   ]
  },
  {
   "cell_type": "code",
   "execution_count": null,
   "metadata": {},
   "outputs": [],
   "source": [
    "import torch\n",
    "import main\n",
    "\n",
    "ta = main.TA_Pipeline()\n",
    "\n",
    "USER_QUESTION = \"user_question = 'What are the inputs and outputs of a Gray code counter?'\"\n",
    "NUM_ANSWERS_GENERATED = 5\n",
    "\n",
    "top_context_list = ta.contriever(user_question=USER_QUESTION, num_answers_generated=NUM_ANSWERS_GENERATED)\n",
    "generated_answers_list = ta.OPT(top_context_list)\n",
    "scores = ta.re_ranking_ms_marco(generated_answers_list)\n",
    "index_of_best_answer = torch.argmax(scores) # get best answer\n",
    "print(\"Best answer 👇\\n\", generated_answers_list[index_of_best_answer])"
   ]
  },
  {
   "cell_type": "markdown",
   "metadata": {},
   "source": [
    "### Using Flan T5\n",
    "\n",
    "Google just released new SOTA LLMs on huggingface (better than OPT and Bloom). \n",
    "It's instruction-finetuned via reinforcement learning. This might be the best open-source LLM for our system, and should replace OPT.\n",
    "\n",
    "* Paper: https://arxiv.org/abs/2210.11416\n",
    "* huggingface: https://huggingface.co/docs/transformers/model_doc/flan-t5"
   ]
  },
  {
   "cell_type": "code",
   "execution_count": 10,
   "metadata": {},
   "outputs": [],
   "source": [
    "# pip install accelerate\n",
    "import torch\n",
    "import accelerate\n",
    "from transformers import T5Tokenizer, T5ForConditionalGeneration\n",
    "\n",
    "tokenizer = T5Tokenizer.from_pretrained(\"google/flan-t5-large\")\n",
    "model = T5ForConditionalGeneration.from_pretrained(\"google/flan-t5-large\", device_map=\"auto\", torch_dtype=torch.float16)"
   ]
  },
  {
   "cell_type": "code",
   "execution_count": 13,
   "metadata": {},
   "outputs": [
    {
     "name": "stdout",
     "output_type": "stream",
     "text": [
      "<pad> The inputs to a counter, if any, are typically limited to functionssuch as starting and stopping the counter, controlling the counting direction, and resetting the counter to a particular state.</s>\n"
     ]
    }
   ],
   "source": [
    "CONTEXT = \"{Example: A Two-Bit Gray Code Counter}Let's begin with a two-bit Gray code counter with no inputs.As we mentioned in Notes Set 2.1, a Gray code is a cycle over allbit patterns of a certain length in which consecutive patterns differin exactly one bit.For simplicity, our first few examples are based on counters anduse the internal stateof the FSM as the output values.  You should already knowhow to design combinational logic for the outputs if it were necessary.The inputs to a counter, if any, are typically limited to functionssuch as starting and stopping the counter, controlling the counting direction, and resetting the counter to a particular state.A fully-specified transition diagram for a two-bit Gray code counter appears below.With no inputs, the states simply form a loop, withthe counter moving from one state to the next each cycle.Each state in the diagram is marked with the internal state value S_1S_0 (before the ``/'') and the output Z_1Z_0 (after the ``/''), which are always equal for this counter.Based on the transition diagram, we can fill in the K-maps for the next-state values S_1^+ and S_0^+ as shown to the right of thetransition diagram, then derive algebraic expressions in the usual way to obtainS_1^+=S_0 and S_0^+={{S_1}}.We then use the next-state logic to develop the implementationshown on the far right, completing our first counter design.\"\n",
    "PROMPT = \"Please answer this person's question accurately, clearly and concicely. Context: \"\n",
    "QUESTION = \"Question: What are the inputs and outputs of a Gray code counter? \"\n",
    "input_text = PROMPT + CONTEXT + QUESTION + \"Answer: \"\n",
    "\n",
    "input_ids = tokenizer(input_text, return_tensors=\"pt\").input_ids.to(\"cuda\")\n",
    "\n",
    "outputs = model.generate(input_ids, max_length=1024)\n",
    "print(tokenizer.decode(outputs[0]))"
   ]
  },
  {
   "cell_type": "code",
   "execution_count": null,
   "metadata": {},
   "outputs": [],
   "source": []
  }
 ],
 "metadata": {
  "kernelspec": {
   "display_name": "general_has_everything",
   "language": "python",
   "name": "python3"
  },
  "language_info": {
   "codemirror_mode": {
    "name": "ipython",
    "version": 3
   },
   "file_extension": ".py",
   "mimetype": "text/x-python",
   "name": "python",
   "nbconvert_exporter": "python",
   "pygments_lexer": "ipython3",
   "version": "3.9.13"
  },
  "orig_nbformat": 4,
  "vscode": {
   "interpreter": {
    "hash": "9b69eb772e953fa94c7e6a13e20e5676ab72e6ff0f5efef62f5cddb3889daa1c"
   }
  }
 },
 "nbformat": 4,
 "nbformat_minor": 2
}
