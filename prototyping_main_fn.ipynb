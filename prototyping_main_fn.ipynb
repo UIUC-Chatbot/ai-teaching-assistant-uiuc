{
 "cells": [
  {
   "cell_type": "code",
   "execution_count": 1,
   "metadata": {},
   "outputs": [
    {
     "name": "stderr",
     "output_type": "stream",
     "text": [
      "/home/kastan/utils/miniconda3/envs/nlp_v2/lib/python3.8/site-packages/tqdm/auto.py:22: TqdmWarning: IProgress not found. Please update jupyter and ipywidgets. See https://ipywidgets.readthedocs.io/en/stable/user_install.html\n",
      "  from .autonotebook import tqdm as notebook_tqdm\n"
     ]
    }
   ],
   "source": [
    "import sys\n",
    "import os\n",
    "sys.path.append(\"../data-generator\")\n",
    "sys.path.append(\"../info-retrieval\")\n",
    "import contriever.contriever_final # Asmita's contriever"
   ]
  },
  {
   "cell_type": "code",
   "execution_count": 2,
   "metadata": {},
   "outputs": [],
   "source": [
    "USER_QUESTION = 'What are the inputs and outputs of a Gray code counter?'\n",
    "NUM_ANSWERS_GENERATED = 5"
   ]
  },
  {
   "cell_type": "markdown",
   "metadata": {},
   "source": [
    "## Using Asmita's Contriever"
   ]
  },
  {
   "cell_type": "code",
   "execution_count": 3,
   "metadata": {},
   "outputs": [],
   "source": [
    "my_contriever = contriever.contriever_final.ContrieverCB()"
   ]
  },
  {
   "cell_type": "code",
   "execution_count": 4,
   "metadata": {},
   "outputs": [
    {
     "name": "stdout",
     "output_type": "stream",
     "text": [
      "Let's begin with a two-bit Gray code counter with no inputs.As we mentioned in Notes Set 2.1, a Gray code is a cycle over allbit patterns of a certain length in which consecutive patterns differin exactly one bit.\n",
      "\n",
      "A fully-specified transition diagram for a two-bit Gray code counter appears below.With no inputs, the states simply form a loop, withthe counter moving from one state to the next each cycle.\n",
      "\n",
      "We have now verified the implementation.\n",
      "\n",
      "Now we'll add a third bit to our counter, but again use a Gray codeas the basis for the state sequence.\n",
      "\n",
      "{{file=part3/figs/part3-min-components.eps,width=3.84in}}\n"
     ]
    }
   ],
   "source": [
    "# my_contriever.generate_embeddings(\"../data-generator/prompt engineering/gpt-3 semantic search/1_top_quality.json\")\n",
    "contriever_contexts = my_contriever.retrieve_topk(\"What are the inputs and outputs of a Gray code counter?\", path_to_json = \"../data-generator/split_textbook/paragraphs.json\", k = NUM_ANSWERS_GENERATED)\n",
    "\n",
    "top_context_list = list(contriever_contexts.values())\n",
    "for i, context in enumerate(top_context_list):\n",
    "    res = []\n",
    "    for sub in context:\n",
    "        res.append(sub.replace(\"\\n\", \"\"))\n",
    "    top_context_list[i] = \"\".join(res)\n",
    "print('\\n\\n'.join(top_context_list))"
   ]
  },
  {
   "cell_type": "markdown",
   "metadata": {},
   "source": [
    "### OPT"
   ]
  },
  {
   "cell_type": "code",
   "execution_count": 2,
   "metadata": {},
   "outputs": [
    {
     "name": "stderr",
     "output_type": "stream",
     "text": [
      "/home/kastan/utils/miniconda3/envs/nlp_v2/lib/python3.8/site-packages/tqdm/auto.py:22: TqdmWarning: IProgress not found. Please update jupyter and ipywidgets. See https://ipywidgets.readthedocs.io/en/stable/user_install.html\n",
      "  from .autonotebook import tqdm as notebook_tqdm\n"
     ]
    },
    {
     "data": {
      "text/plain": [
       "0"
      ]
     },
     "execution_count": 2,
     "metadata": {},
     "output_type": "execute_result"
    }
   ],
   "source": [
    "# clear cuda memory\n",
    "import gc\n",
    "import torch\n",
    "torch.cuda.empty_cache()\n",
    "gc.collect()"
   ]
  },
  {
   "cell_type": "code",
   "execution_count": 6,
   "metadata": {},
   "outputs": [],
   "source": [
    "from transformers import GPT2Tokenizer, OPTForCausalLM\n",
    "import torch\n",
    "\n",
    "model = OPTForCausalLM.from_pretrained(\"facebook/opt-1.3b\") # opt-350m\n",
    "tokenizer = GPT2Tokenizer.from_pretrained(\"facebook/opt-1.3b\")\n",
    "# model.to(\"cuda\")"
   ]
  },
  {
   "cell_type": "code",
   "execution_count": 7,
   "metadata": {},
   "outputs": [
    {
     "name": "stdout",
     "output_type": "stream",
     "text": [
      "  Inputs\n",
      "Interspersed with other values\n",
      "Outputs\n",
      "The following example shows the input structure (and its output) for a typical Gray Code Counter.It should be noted that some Gray codes do not allow for simple addition or subtraction of multiple bits; instead they require the use of a special value called a 1-to-5 accumulator, where five 0s can only sum to 4 1s.For simplicity, we will assume that these \"special\" functions are present every time the Gray code counter changes its state.We also assume a binary count as an extra level of abstraction when describing the function.This means there are three levels of indirection between inputs and actual output:\n",
      "---------------------------------NEXT---------------------------------\n",
      "   Inputs: 1 = (0, 1) = 0; 2 = (1, 2) = 5 ; 3 = 4 = 8 , etc.... Output : A - Gray code Counter Output is simply an A / B bit binary value, which determines the current stateof the counters. An output of zero would indicate that thereis no change in the counter, while values between 6 and 18 have some alsocontagious activity because of their relative positions on thecycle. The number 7 will always be the maximum number possible on anycycle, as will all other numbers except 9, 12, 19 or 23. If a singleinput changes the state of any two bits at once, then those bits can neverbe assigned exactly the same value twice since they appear differently atdifferent times due to time differences.\n",
      "---------------------------------NEXT---------------------------------\n",
      "  The input is the current value of X in binary form (the number x), or something like that. Output is an integer from 0 to 255. You can add and subtract but you're not allowed to multiply and divide since you've already used two arguments.  So basically it counts up by 2 steps at any time during a run which means we won't do double counting even though some people might want that.\n",
      "---------------------------------NEXT---------------------------------\n",
      "  The output is just how many values in your given input were gray at that time you used it.. not very useful!  We need an actual example to answer\n",
      "I have already edited my post with another instance where I was able to solve this issue though so no issues there. I had asked about input and output which leads me to believe I do understand what you mean by Gray code counters but would prefer if someone could explain to me exactly why they function as they did because then I can apply their logic to the problem I am working on now.\n",
      "It might be helpful to see other solutions that utilize that idea...maybe those will help? But also try looking up some of these \"Gray codes\" ideas yourself. Just don't make assumptions too quickly, as in \"this guy must know what he's talking about!\" It takes time and effort (and many things) to even begin solving problems...but I'm willing to bet some of us here would like that knowledge and guidance :) Good luck! :)\n",
      "---------------------------------NEXT---------------------------------\n",
      "  You have a counter that is always 0 (1 at input) but with no inputs or outputs.\n"
     ]
    }
   ],
   "source": [
    "# Generate\n",
    "response_list = []\n",
    "for i in range(NUM_ANSWERS_GENERATED):\n",
    "  prompt = \"Please answer this person's question accurately, clearly and concicely. Context: \" + top_context_list[i] + '\\n' + \"Question: \" + USER_QUESTION + '\\n' + \"Answer: \"\n",
    "  inputs = tokenizer(prompt, return_tensors=\"pt\").to(\"cuda\")\n",
    "  model = model.to(\"cuda\")\n",
    "  \n",
    "  generate_ids = model.generate(inputs.input_ids, max_length=345, do_sample=True, top_k=50, top_p=0.95, temperature=0.95, num_return_sequences=1, repetition_penalty=1.2, length_penalty=1.2, pad_token_id=tokenizer.eos_token_id)\n",
    "  response = tokenizer.batch_decode(generate_ids, skip_special_tokens=True, clean_up_tokenization_spaces=False)[0]\n",
    "  opt_answer = response.split(\"Answer:\")[1]\n",
    "  response_list.append(opt_answer)\n",
    "  \n",
    "print('\\n---------------------------------NEXT---------------------------------\\n'.join(response_list))"
   ]
  },
  {
   "cell_type": "code",
   "execution_count": 8,
   "metadata": {},
   "outputs": [
    {
     "name": "stdout",
     "output_type": "stream",
     "text": [
      "  Inputs\n",
      "Interspersed with other values\n",
      "Outputs\n",
      "The following example shows the input structure (and its output) for a typical Gray Code Counter.It should be noted that some Gray codes do not allow for simple addition or subtraction of multiple bits; instead they require the use of a special value called a 1-to-5 accumulator, where five 0s can only sum to 4 1s.For simplicity, we will assume that these \"special\" functions are present every time the Gray code counter changes its state.We also assume a binary count as an extra level of abstraction when describing the function.This means there are three levels of indirection between inputs and actual output:\n",
      "---------------------------------NEXT---------------------------------\n",
      "   Inputs: 1 = (0, 1) = 0; 2 = (1, 2) = 5 ; 3 = 4 = 8 , etc.... Output : A - Gray code Counter Output is simply an A / B bit binary value, which determines the current stateof the counters. An output of zero would indicate that thereis no change in the counter, while values between 6 and 18 have some alsocontagious activity because of their relative positions on thecycle. The number 7 will always be the maximum number possible on anycycle, as will all other numbers except 9, 12, 19 or 23. If a singleinput changes the state of any two bits at once, then those bits can neverbe assigned exactly the same value twice since they appear differently atdifferent times due to time differences.\n",
      "---------------------------------NEXT---------------------------------\n",
      "  The input is the current value of X in binary form (the number x), or something like that. Output is an integer from 0 to 255. You can add and subtract but you're not allowed to multiply and divide since you've already used two arguments.  So basically it counts up by 2 steps at any time during a run which means we won't do double counting even though some people might want that.\n",
      "---------------------------------NEXT---------------------------------\n",
      "  The output is just how many values in your given input were gray at that time you used it.. not very useful!  We need an actual example to answer\n",
      "I have already edited my post with another instance where I was able to solve this issue though so no issues there. I had asked about input and output which leads me to believe I do understand what you mean by Gray code counters but would prefer if someone could explain to me exactly why they function as they did because then I can apply their logic to the problem I am working on now.\n",
      "It might be helpful to see other solutions that utilize that idea...maybe those will help? But also try looking up some of these \"Gray codes\" ideas yourself. Just don't make assumptions too quickly, as in \"this guy must know what he's talking about!\" It takes time and effort (and many things) to even begin solving problems...but I'm willing to bet some of us here would like that knowledge and guidance :) Good luck! :)\n",
      "---------------------------------NEXT---------------------------------\n",
      "  You have a counter that is always 0 (1 at input) but with no inputs or outputs.\n"
     ]
    }
   ],
   "source": [
    "print('\\n---------------------------------NEXT---------------------------------\\n'.join(response_list))"
   ]
  },
  {
   "cell_type": "markdown",
   "metadata": {},
   "source": [
    "### ReRanking (MS-Marco Cross Encoder)"
   ]
  },
  {
   "cell_type": "code",
   "execution_count": 9,
   "metadata": {},
   "outputs": [
    {
     "name": "stdout",
     "output_type": "stream",
     "text": [
      "tensor([[ 7.8039],\n",
      "        [ 8.3896],\n",
      "        [-4.4525],\n",
      "        [ 4.2606],\n",
      "        [ 0.4363]])\n"
     ]
    }
   ],
   "source": [
    "from transformers import AutoTokenizer, AutoModelForSequenceClassification\n",
    "import torch\n",
    "\n",
    "model = AutoModelForSequenceClassification.from_pretrained('cross-encoder/ms-marco-MiniLM-L-6-v2')\n",
    "tokenizer = AutoTokenizer.from_pretrained('cross-encoder/ms-marco-MiniLM-L-6-v2')\n",
    "\n",
    "assert len([USER_QUESTION] * NUM_ANSWERS_GENERATED ) == len(response_list)\n",
    "\n",
    "features = tokenizer([USER_QUESTION] * NUM_ANSWERS_GENERATED, response_list,  padding=True, truncation=True, return_tensors=\"pt\")\n",
    "\n",
    "model.eval()\n",
    "with torch.no_grad():\n",
    "    scores = model(**features).logits\n",
    "    print(scores)"
   ]
  },
  {
   "cell_type": "markdown",
   "metadata": {},
   "source": [
    "#### Todo: Using Jerome's Doc-Query\n",
    "(lots of dependencies)"
   ]
  },
  {
   "cell_type": "code",
   "execution_count": null,
   "metadata": {},
   "outputs": [],
   "source": []
  },
  {
   "cell_type": "code",
   "execution_count": null,
   "metadata": {},
   "outputs": [],
   "source": []
  },
  {
   "cell_type": "code",
   "execution_count": 24,
   "metadata": {},
   "outputs": [],
   "source": []
  },
  {
   "cell_type": "markdown",
   "metadata": {},
   "source": [
    "# Try running this 👇 This works running our main"
   ]
  },
  {
   "cell_type": "code",
   "execution_count": null,
   "metadata": {},
   "outputs": [],
   "source": [
    "import torch\n",
    "import main\n",
    "\n",
    "ta = main.TA_Pipeline()\n",
    "\n",
    "USER_QUESTION = \"user_question = 'What are the inputs and outputs of a Gray code counter?'\"\n",
    "NUM_ANSWERS_GENERATED = 5\n",
    "\n",
    "top_context_list = ta.contriever(user_question=USER_QUESTION, num_answers_generated=NUM_ANSWERS_GENERATED)\n",
    "generated_answers_list = ta.OPT(top_context_list)\n",
    "scores = ta.re_ranking_ms_marco(generated_answers_list)\n",
    "index_of_best_answer = torch.argmax(scores) # get best answer\n",
    "print(\"Best answer 👇\\n\", generated_answers_list[index_of_best_answer])"
   ]
  },
  {
   "cell_type": "code",
   "execution_count": null,
   "metadata": {},
   "outputs": [],
   "source": []
  }
 ],
 "metadata": {
  "kernelspec": {
   "display_name": "nlp_v2",
   "language": "python",
   "name": "python3"
  },
  "language_info": {
   "codemirror_mode": {
    "name": "ipython",
    "version": 3
   },
   "file_extension": ".py",
   "mimetype": "text/x-python",
   "name": "python",
   "nbconvert_exporter": "python",
   "pygments_lexer": "ipython3",
   "version": "3.8.13"
  },
  "orig_nbformat": 4,
  "vscode": {
   "interpreter": {
    "hash": "612b182cb4c3e0acfd877acc6c10f43d075b0ae43380d6b249d2d2b5490153b2"
   }
  }
 },
 "nbformat": 4,
 "nbformat_minor": 2
}
