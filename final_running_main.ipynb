{
 "cells": [
  {
   "cell_type": "markdown",
   "metadata": {},
   "source": [
    "### Main method: running TA Chatbot\n",
    "\n",
    "Implemented:\n",
    "* Contriever (IR)\n",
    "* OPT (generation)\n",
    "* MS_Marco (ranking)\n",
    "* Separately, DocQuery retrieves \"quotes\" the textbook. It gives short, direct answers.\n",
    "\n",
    "Todo: \n",
    "* UI/UX.\n",
    "* Fine-tuned models. "
   ]
  },
  {
   "cell_type": "markdown",
   "metadata": {},
   "source": [
    "TO RUN: you must clone all our repos into the same top directory. \n",
    "\n",
    "Required directory structure:\n",
    "```text\n",
    "-- ta_chatbot\n",
    "---- main_fun\n",
    "---- data-generator\n",
    "---- info-retrieval\n",
    "```"
   ]
  },
  {
   "cell_type": "code",
   "execution_count": 2,
   "metadata": {},
   "outputs": [
    {
     "name": "stderr",
     "output_type": "stream",
     "text": [
      "/home/kastan/utils/miniconda3/envs/general_has_everything/lib/python3.9/site-packages/tqdm/auto.py:22: TqdmWarning: IProgress not found. Please update jupyter and ipywidgets. See https://ipywidgets.readthedocs.io/en/stable/user_install.html\n",
      "  from .autonotebook import tqdm as notebook_tqdm\n"
     ]
    }
   ],
   "source": [
    "import torch\n",
    "import main\n",
    "\n",
    "# init our Main() class -- all our models are class properties\n",
    "ta = main.TA_Pipeline()"
   ]
  },
  {
   "cell_type": "code",
   "execution_count": 1,
   "metadata": {},
   "outputs": [
    {
     "name": "stderr",
     "output_type": "stream",
     "text": [
      "/home/kastan/utils/miniconda3/envs/nlp_v2/lib/python3.8/site-packages/tqdm/auto.py:22: TqdmWarning: IProgress not found. Please update jupyter and ipywidgets. See https://ipywidgets.readthedocs.io/en/stable/user_install.html\n",
      "  from .autonotebook import tqdm as notebook_tqdm\n"
     ]
    },
    {
     "name": "stdout",
     "output_type": "stream",
     "text": [
      "User question:  What are the inputs and outputs of a Gray code counter?\n",
      "Generated Answers:\n",
      "  A Gray code counter can be used to count cycles over any two bits that are not on either side of 0 . For example, let us consider the following input/output pattern :0 - 1 = ,000 :7 :8 (3 +2) , ,000 :1 :9 (4+6)*(5 +11) ; or\n",
      "*[A] {1} = |00| & [b] {2} = |01| // [a]=10 | [b] *{0}\\le \\begin{align}\\end{align}.\\The output will be |0'| & 0 '+ 1 'and its equivalent would be |14'. The same applies if there is only an odd number of values. This means it works for binary numbers as well because we can represent both even and odd ones. If you look up a Gray Code Counter then you'll see the following page :http://en.wikipedia.org/wiki/Gray_code#InputsOutputsI hope that answers your questions! Thanks!--Juan C.\n",
      "---------------------------------NEXT---------------------------------\n",
      " _________ (Inputs) ____________________ (Outputs)._________ is also known as gray parity bit 2. The Gray code output can be either 0 or 1. You may also see it called an input parity bit if you write it that way.An 8-bit word may contain a sequence of four bits of information. This is commonly referred to as an 8X8 word. The last two bitstream bytes in the 8x8 word must all have the same value as they do not differ by more than 2.The value of any given byte at its end determines the next input byte. If the previous two bytes were a bit too low in order, another byte is added to increase them up until the proper value is found.For example, let us assume we write I=1 into byte 4a. The result would produce B=2; however, if we want only the second byte sent back, then we need to remove a single byte. In fact, every time we replace a high byte with a low byte, we add a new byte to complete the string.To avoid ambiguity, here is what to use. Write it this way. [B - i + 1] = 2[C - i ] = 3[D -i ] = ... = 5...In fact, the whole system should behave like this. Here is the code:\n",
      "Gray Code Counter Input Output Gray Code Counter Read 16 Gray Code Counter Read 32 Gray Code Counter Write 16 Gray Code Counter Print 16 Gray Code Counter Write 32 Gray Code Counter Print 32 Gray Code Counter Print 32 Gray Code Counter Read 32 Gray Code Counter Write 32 Gray Code Counter Print 32 Gray Code Counter Print 32 Gray Code Counter Print 32 Gray Code Counter Print 32 Gray Code Counter Copy 10 Gray Code Counter Copy 16 Gray Code Counter Copy 32 Gray Code Counter copy 16 Gray Code Counter Copy 32 Gray Code Counter Copy 16 Gray Code Counter Copy 32 Gray Code Counter copy 32 Gray Code Counter Copy 64 Gray Code Counter Copy 192 Gray Code Counter Copy 4096 Gray Code Counter Copy 1024 Gray Code Counter Copy 128 Gray Code Counter Copy 2048 Gray Code Counter Copy 512 Gray Code Counter Copy 64 Gray Code Counter Copy 384 Gray Code\n",
      "---------------------------------NEXT---------------------------------\n",
      "  >The input is an unsigned long that starts at zero. The output is the sum of all non-zero inputs to the counter in units of bits per second.   The input is how many times the counter has hit 0 over an elapsed time and not some other arbitrary value. For instance if your counter is 2^33 then it can take 1,000 years for a single bit change from any one time period of 100 seconds to reset so you could write a counter like that with 1000 counts until counting down again.\n",
      "This doesn't seem completely correct. Why would 1 + 10 be more or less than 1 + 10 - 15 ? I'm pretty sure there is no constant, just two different values (which are different by design) and therefore they must be expressed using integers. The only way out is either to use floating point numbers, which means that this problem will always give wrong answers because of rounding errors . If we want something to work as intended we need to find another solution that is consistent.\n",
      "That’s my best guess off hand without knowing much about it apart from what seems relevant here, but perhaps someone else who is better versed on programming these types of algorithms is able to comment further :)\n",
      "As far as I know it actually works like that. It uses integer arithmetic, though I don't think they were doing floating point calculations too\n",
      "---------------------------------NEXT---------------------------------\n",
      "  Inputs:\n",
      "I'm sorry.  Can you repeat that in your reply or please re-write it with \"Include the inputs?\" on each comment (to keep the thread compact). You're probably too busy right now though! :)\n",
      "Sorry about that I have another job currently...it will take some time till my free time is back, I apologize for delay :3\n",
      "No worries mate!!  It was just easier that way.  Thanks once more. =)\n",
      "---------------------------------NEXT---------------------------------\n",
      "  A Gray Code Counter is basically 1 bit counter, but in digital form only can be represented as 2 bits of resolution (which makes it better for handling non stop traffic). When you add up all possible states that exist within one count cycle then you end up with \"a\" which stands for \"1\". If it was an analog counter it would be represented by several different numbers ranging from 0 to 255 depending on what you wanted, like for example 00010001 or 0000001111 or 000010100 or...\n",
      "Haha I got downvoted! Thanks! :) so if we could convert 1 bit into multiple values, that should work right ?\n",
      "What do you mean exactly ? Can you think about how digital counters function ?\n",
      "Scores for each answer (from ms_marco): tensor([[  7.1071],\n",
      "        [  6.1029],\n",
      "        [ -0.8700],\n",
      "        [-10.6344],\n",
      "        [  4.0492]])\n",
      "Best answer 👇\n",
      "   A Gray code counter can be used to count cycles over any two bits that are not on either side of 0 . For example, let us consider the following input/output pattern :0 - 1 = ,000 :7 :8 (3 +2) , ,000 :1 :9 (4+6)*(5 +11) ; or\n",
      "*[A] {1} = |00| & [b] {2} = |01| // [a]=10 | [b] *{0}\\le \\begin{align}\\end{align}.\\The output will be |0'| & 0 '+ 1 'and its equivalent would be |14'. The same applies if there is only an odd number of values. This means it works for binary numbers as well because we can represent both even and odd ones. If you look up a Gray Code Counter then you'll see the following page :http://en.wikipedia.org/wiki/Gray_code#InputsOutputsI hope that answers your questions! Thanks!--Juan C.\n"
     ]
    }
   ],
   "source": [
    "USER_QUESTION = \"user_question = 'What are the inputs and outputs of a Gray code counter?'\"\n",
    "NUM_ANSWERS_GENERATED = 5\n",
    "\n",
    "# contriever: find relevant passages\n",
    "top_context_list = ta.contriever(user_question=USER_QUESTION, num_answers_generated=NUM_ANSWERS_GENERATED)\n",
    "# opt: passage + question = answer\n",
    "generated_answers_list = ta.OPT(top_context_list)\n",
    "# rank OPT answers\n",
    "scores = ta.re_ranking_ms_marco(generated_answers_list)\n",
    "# print best answer\n",
    "index_of_best_answer = torch.argmax(scores) # get best answer\n",
    "print(\"\\n-------------------------------------------------------------\\n\")\n",
    "print(\"Best answer 👇\\n\", generated_answers_list[index_of_best_answer])"
   ]
  },
  {
   "cell_type": "code",
   "execution_count": 1,
   "metadata": {},
   "outputs": [
    {
     "name": "stderr",
     "output_type": "stream",
     "text": [
      "/home/kastan/utils/miniconda3/envs/general_has_everything/lib/python3.9/site-packages/tqdm/auto.py:22: TqdmWarning: IProgress not found. Please update jupyter and ipywidgets. See https://ipywidgets.readthedocs.io/en/stable/user_install.html\n",
      "  from .autonotebook import tqdm as notebook_tqdm\n",
      "document-question-answering is already registered. Overwriting pipeline for task document-question-answering...\n"
     ]
    },
    {
     "data": {
      "text/plain": [
       "[{'score': 0.03770878165960312,\n",
       "  'answer': 'morebits',\n",
       "  'word_ids': [9],\n",
       "  'page': 3}]"
      ]
     },
     "execution_count": 1,
     "metadata": {},
     "output_type": "execute_result"
    }
   ],
   "source": [
    "import torch\n",
    "import main\n",
    "\n",
    "# init our Main() class -- all our models are class properties\n",
    "ta = main.TA_Pipeline()\n",
    "\n",
    "USER_QUESTION = \"user_question = 'What are the inputs and outputs of a Gray code counter?'\"\n",
    "NUM_ANSWERS_GENERATED = 5\n",
    "\n",
    "\n",
    "answer = ta.doc_query(user_question=USER_QUESTION)\n",
    "print(\"👉 DocQuery's concise, direct quote, answer:\", answer)"
   ]
  },
  {
   "cell_type": "code",
   "execution_count": null,
   "metadata": {},
   "outputs": [],
   "source": []
  }
 ],
 "metadata": {
  "kernelspec": {
   "display_name": "general_has_everything",
   "language": "python",
   "name": "python3"
  },
  "language_info": {
   "codemirror_mode": {
    "name": "ipython",
    "version": 3
   },
   "file_extension": ".py",
   "mimetype": "text/x-python",
   "name": "python",
   "nbconvert_exporter": "python",
   "pygments_lexer": "ipython3",
   "version": "3.9.13"
  },
  "orig_nbformat": 4,
  "vscode": {
   "interpreter": {
    "hash": "9b69eb772e953fa94c7e6a13e20e5676ab72e6ff0f5efef62f5cddb3889daa1c"
   }
  }
 },
 "nbformat": 4,
 "nbformat_minor": 2
}
