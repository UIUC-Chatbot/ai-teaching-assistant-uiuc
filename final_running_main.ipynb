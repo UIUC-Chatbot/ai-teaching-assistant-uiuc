{
 "cells": [
  {
   "cell_type": "markdown",
   "metadata": {},
   "source": [
    "### Main method: running TA Chatbot\n",
    "\n",
    "Implemented:\n",
    "* Contriever (IR)\n",
    "* OPT (generation)\n",
    "* MS_Marco (ranking)\n",
    "* Separately, DocQuery retrieves \"quotes\" the textbook. It gives short, direct answers.\n",
    "\n",
    "Todo: \n",
    "* Implement Flan-T5 (instruction-finetuned) instead of, or _maybe_ in addition to, OPT. \n",
    "* UI/UX.\n",
    "  * Enable user-provided contexts to return direct answers about a piece of text they are studying.\n",
    "* Fine-tuned models. \n",
    "\n",
    "Dream ideas:\n",
    "* Implement roberta QA Pipeline (from Jerome's DocQuery notebook)\n",
    "* Implement huggingface SentenceTransformers \n",
    "* Implement context search from GPT embeddings 'QA' specialized models."
   ]
  },
  {
   "cell_type": "markdown",
   "metadata": {},
   "source": [
    "TO RUN: you must clone all our repos into the same top directory. \n",
    "\n",
    "Required directory structure:\n",
    "```text\n",
    "-- ta_chatbot\n",
    "---- main_fun\n",
    "---- data-generator\n",
    "---- info-retrieval\n",
    "```"
   ]
  },
  {
   "cell_type": "code",
   "execution_count": 3,
   "metadata": {},
   "outputs": [],
   "source": [
    "import torch\n",
    "import main\n",
    "USER_QUESTION = \"user_question = 'What is the Moore machine?'\""
   ]
  },
  {
   "cell_type": "code",
   "execution_count": null,
   "metadata": {},
   "outputs": [],
   "source": [
    "# retriever: Xiang: RAG (DPR), Kastan: Contriver\n",
    "# generator: Xiang: T5/OPT (Fine-tuned), Kastan: OPT (Pre-trained)\n",
    "# question re-write: Xiang: T5 (Fine-tuned), Kastan: NONE\n",
    "# re-ranker: Xiang: NONE, Kastan: MS-Marco (Fine-tuned)"
   ]
  },
  {
   "cell_type": "code",
   "execution_count": 6,
   "metadata": {},
   "outputs": [
    {
     "name": "stdout",
     "output_type": "stream",
     "text": [
      "User question:  user_question = 'When did Turing invent the Turing machine?'\n",
      "Generated Answers:\n",
      "  > On June 18, 1953 in the United Kingdom's West Cotswold village of Ovinghoe he made a breakthrough that helped pave the way for computers to be used by scientists around the world.<br />(http://en.wikipedia.org/wiki/Timothy%20Haldane#Philosophy)<br /><p>Since our first post-turing machine was an IBM 703 (a 704 with a special chip for arithmetic operations only), we have no idea what his first invention really was. That is because there are not many examples of it existing. Even fewer exist today than when Turing wrote that famous statement.</p>\n",
      "<h2 style=\"text-align: justify;\">More Information</h2>\n",
      "<ul style=\"line-height: 115%;\"><li align=\"right\">Turing's other inventions</li></ul>\n",
      "<ol style=\"line-height: 110%; width: 100%; height: 80px;\" id=\"startAlign\" class=\"MsoListParagraphCxSpMiddleColumn\"><th style=\"text-decoration: underline;\">Start Column - What are they?</th>\n",
      "</ol><pre class=\"MsoNormal\" style=\"margin-top: .0001pt; margin-bottom: 0in; text-indent: -4pt; mso-add-space: auto; font-size: 12.0pt;\"></pre><span class=\"Apple-style-span\" style=\"color:#ffffff; font-family:'Open Sans';\">The ideas behind all of these technologies were quite different, but some aspects of each can or do overlap between them. For example, the programming language Java uses <code>static</code> types which were created by Von Neumann to prevent ambiguity. A static type allows you to declare your object as if it didn't belong to any single program code and thus prevents conflicts between programs since they cannot reference the same object in two different ways at once.[1] In turn, one could argue that the very concept of having multiple programs that share something is itself an extension of a nonlocal representation of information represented as a dynamic set of state\n",
      "---------------------------------NEXT---------------------------------\n",
      "  > The Turing Machine was invented during a time when computers were less sophisticated and more expensive than they are today (1962). I believe that even with all its flaws it is still a very effective way to program computer systems. It has been usedin some government programs, such as traffic control systems...I can thinkof no major use applications beyond that at present. > > --Michael A. Brown , August 4 2015. > > Q13 \"Is there anything about this machine that made you realize it would be useful?\"\n",
      "> Is there any difference between writing programs yourself or using software? When did you first begin to see yourself as an engineer rather than just somebody who writes code? Do the two modes differ from one another? Can youthink of instances where you have worked on something which could not function without someone else assistingyou? If so, what kinds of things do you often accomplish by yourself and those tasks which needa bit extra assistance?\n",
      "---------------------------------NEXT---------------------------------\n",
      "  When he invented a computer to simulate reality by using mathematical equations? The very first electronic computer in 1947 was an electronic calculator not a computer at all so why bother writing anything like that for it... or rather why use such a primitive piece of machinery? He didn't even understand what digital hardware actually meant....  -Turing himself! :-)\n",
      "Wow, I just looked back over his papers on \"The Theory of Artificial Intelligence\", some things really do stick out there :) Thank you for telling me about him :D\n",
      "---------------------------------NEXT---------------------------------\n",
      "  I think it was a few decades after he invented the computer in 1936 with his own invention of the machine learning model. So before 1948. However there are many variants and variations on that first claim by him... so who knows?\n",
      "I read something about a famous mathematician saying to me that Turing *invented* (not just had an idea/concept) the human-machine interface but they were simply the first ones to put them into practice using the tools at hand or the ideas/theories available when those techniques could be applied. Not sure if this is correct though\n",
      "---------------------------------NEXT---------------------------------\n",
      " ~~The first time he ever heard of it was when his mother told him about it before she died during World War II. She had been looking up information on all her family members who were out of service as a result of WWII. One of the relatives who didn't make it home from WWII was George W., so she called and asked him to pass along to his father what she'd learned concerning the war.'~ from wikipedia  ---  Edited: Formatting\n",
      "That may have happened, but what I described above happened AFTER Turing invented the thing... So...  \n",
      "Scores for each answer (from ms_marco): tensor([[ 1.1998],\n",
      "        [ 3.6516],\n",
      "        [ 0.5601],\n",
      "        [ 3.8773],\n",
      "        [-3.2539]])\n",
      "\n",
      "-------------------------------------------------------------\n",
      "\n",
      "Question: \n",
      " user_question = 'When did Turing invent the Turing machine?'\n",
      "Best answer: \n",
      "   I think it was a few decades after he invented the computer in 1936 with his own invention of the machine learning model. So before 1948. However there are many variants and variations on that first claim by him... so who knows?\n",
      "I read something about a famous mathematician saying to me that Turing *invented* (not just had an idea/concept) the human-machine interface but they were simply the first ones to put them into practice using the tools at hand or the ideas/theories available when those techniques could be applied. Not sure if this is correct though\n"
     ]
    }
   ],
   "source": [
    "NUM_ANSWERS_GENERATED = 5\n",
    "\n",
    "# init our Main() class -- all our models are class properties\n",
    "ta = main.TA_Pipeline()\n",
    "# contriever: find relevant passages (retriever: document + question = 5 passages)\n",
    "top_context_list = ta.contriever(user_question=USER_QUESTION, num_answers_generated=NUM_ANSWERS_GENERATED)\n",
    "# opt-1.3B: 5 passage + 1 question = 5 answer\n",
    "generated_answers_list = ta.OPT(top_context_list)\n",
    "# rank 5 answers\n",
    "scores = ta.re_ranking_ms_marco(generated_answers_list)\n",
    "# print best answer\n",
    "index_of_best_answer = torch.argmax(scores) # get best answer\n",
    "print(\"\\n-------------------------------------------------------------\\n\")\n",
    "print(\"Question: \\n\", USER_QUESTION)\n",
    "print(\"Best answer: \\n\", generated_answers_list[index_of_best_answer])"
   ]
  },
  {
   "cell_type": "code",
   "execution_count": 5,
   "metadata": {},
   "outputs": [
    {
     "name": "stdout",
     "output_type": "stream",
     "text": [
      "The user question is:  user_question = 'When did Turing invent the Turing machine?'\n",
      "DocQuery's concise, direct quote, answer: \n",
      " 3.6.2\n"
     ]
    }
   ],
   "source": [
    "import torch\n",
    "import main\n",
    "\n",
    "# init our Main() class -- all our models are class properties\n",
    "USER_QUESTION = \"user_question = 'When did Turing invent the Turing machine?'\"\n",
    "ta = main.TA_Pipeline()\n",
    "NUM_ANSWERS_GENERATED = 5\n",
    "\n",
    "answer = ta.doc_query(user_question=USER_QUESTION, num_answers_generated=NUM_ANSWERS_GENERATED)\n",
    "print(\"The user question is: \", USER_QUESTION)\n",
    "print(\"DocQuery's concise, direct quote, answer: \\n\", answer)"
   ]
  },
  {
   "cell_type": "markdown",
   "metadata": {},
   "source": [
    "#### UX via Gradio"
   ]
  },
  {
   "cell_type": "code",
   "execution_count": 13,
   "metadata": {},
   "outputs": [
    {
     "name": "stdout",
     "output_type": "stream",
     "text": [
      "Running on local URL:  http://127.0.0.1:7861\n",
      "Running on public URL: https://02ba4546d19a31bc.gradio.app\n",
      "\n",
      "This share link expires in 72 hours. For free permanent hosting and GPU upgrades (NEW!), check out Spaces: https://huggingface.co/spaces\n"
     ]
    },
    {
     "data": {
      "text/html": [
       "<div><iframe src=\"https://02ba4546d19a31bc.gradio.app\" width=\"100%\" height=\"500\" allow=\"autoplay; camera; microphone; clipboard-read; clipboard-write;\" frameborder=\"0\" allowfullscreen></iframe></div>"
      ],
      "text/plain": [
       "<IPython.core.display.HTML object>"
      ]
     },
     "metadata": {},
     "output_type": "display_data"
    },
    {
     "data": {
      "text/plain": [
       "(<gradio.routes.App at 0x7fb1042545e0>,\n",
       " 'http://127.0.0.1:7861/',\n",
       " 'https://02ba4546d19a31bc.gradio.app')"
      ]
     },
     "execution_count": 13,
     "metadata": {},
     "output_type": "execute_result"
    },
    {
     "name": "stderr",
     "output_type": "stream",
     "text": [
      "Traceback (most recent call last):\n",
      "  File \"/home/haob2/anaconda3/envs/taqa/lib/python3.10/site-packages/gradio/routes.py\", line 289, in run_predict\n",
      "    output = await app.blocks.process_api(\n",
      "  File \"/home/haob2/anaconda3/envs/taqa/lib/python3.10/site-packages/gradio/blocks.py\", line 982, in process_api\n",
      "    result = await self.call_function(fn_index, inputs, iterator)\n",
      "  File \"/home/haob2/anaconda3/envs/taqa/lib/python3.10/site-packages/gradio/blocks.py\", line 824, in call_function\n",
      "    prediction = await anyio.to_thread.run_sync(\n",
      "  File \"/home/haob2/anaconda3/envs/taqa/lib/python3.10/site-packages/anyio/to_thread.py\", line 31, in run_sync\n",
      "    return await get_asynclib().run_sync_in_worker_thread(\n",
      "  File \"/home/haob2/anaconda3/envs/taqa/lib/python3.10/site-packages/anyio/_backends/_asyncio.py\", line 937, in run_sync_in_worker_thread\n",
      "    return await future\n",
      "  File \"/home/haob2/anaconda3/envs/taqa/lib/python3.10/site-packages/anyio/_backends/_asyncio.py\", line 867, in run\n",
      "    result = context.run(func, *args)\n",
      "  File \"/tmp/ipykernel_6126/3892264875.py\", line 22, in sepia\n",
      "    sepia_img = input_img.dot(sepia_filter.T)\n",
      "AttributeError: 'NoneType' object has no attribute 'dot'\n"
     ]
    }
   ],
   "source": [
    "import gradio as gr\n",
    "import numpy as np\n",
    "\n",
    "## DOCS: https://gradio.app/getting_started/\n",
    "## See figma for our ideal design.\n",
    "\n",
    "def greet(name):\n",
    "    return \"Hello \" + name + \"!\"\n",
    "\n",
    "demo = gr.Interface(\n",
    "    fn=greet,\n",
    "    inputs=gr.Textbox(lines=2, placeholder=\"Name Here...\"),\n",
    "    outputs=\"text\",\n",
    ")\n",
    "\n",
    "def sepia(input_img):\n",
    "    sepia_filter = np.array([\n",
    "        [0.393, 0.769, 0.189], \n",
    "        [0.349, 0.686, 0.168], \n",
    "        [0.272, 0.534, 0.131]\n",
    "    ])\n",
    "    sepia_img = input_img.dot(sepia_filter.T)\n",
    "    sepia_img /= sepia_img.max()\n",
    "    return sepia_img\n",
    "\n",
    "demo = gr.Interface(sepia, gr.Image(shape=(200, 200)), \"image\")\n",
    "demo.launch(share=True)\n",
    "\n",
    "# demo.launch()\n",
    "# ssh -L 7860:localhost:7860 kastan@kastan"
   ]
  },
  {
   "cell_type": "code",
   "execution_count": null,
   "metadata": {},
   "outputs": [],
   "source": []
  }
 ],
 "metadata": {
  "kernelspec": {
   "display_name": "Python 3.10.6 ('taqa': conda)",
   "language": "python",
   "name": "python3"
  },
  "language_info": {
   "codemirror_mode": {
    "name": "ipython",
    "version": 3
   },
   "file_extension": ".py",
   "mimetype": "text/x-python",
   "name": "python",
   "nbconvert_exporter": "python",
   "pygments_lexer": "ipython3",
   "version": "3.10.6"
  },
  "orig_nbformat": 4,
  "vscode": {
   "interpreter": {
    "hash": "77d50ee12f269a138dd3d785648667f55eac387df0bb4b97b853aee1a92dbab8"
   }
  }
 },
 "nbformat": 4,
 "nbformat_minor": 2
}
