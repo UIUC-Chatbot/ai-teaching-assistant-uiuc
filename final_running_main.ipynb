{
 "cells": [
  {
   "cell_type": "markdown",
   "metadata": {},
   "source": [
    "### Main method: running TA Chatbot\n",
    "\n",
    "Implemented:\n",
    "* Contriever (IR)\n",
    "* OPT (generation)\n",
    "* MS_Marco (ranking)\n",
    "* Separately, DocQuery retrieves \"quotes\" the textbook. It gives short, direct answers.\n",
    "\n",
    "Todo: \n",
    "* Implement Flan-T5 (instruction-finetuned) instead of, or _maybe_ in addition to, OPT. \n",
    "* UI/UX.\n",
    "  * Enable user-provided contexts to return direct answers about a piece of text they are studying.\n",
    "* Fine-tuned models. \n",
    "\n",
    "Dream ideas:\n",
    "* Implement roberta QA Pipeline (from Jerome's DocQuery notebook)\n",
    "* Implement huggingface SentenceTransformers \n",
    "* Implement context search from GPT embeddings 'QA' specialized models."
   ]
  },
  {
   "cell_type": "markdown",
   "metadata": {},
   "source": [
    "TO RUN: you must clone all our repos into the same top directory. \n",
    "\n",
    "Required directory structure:\n",
    "```text\n",
    "-- ta_chatbot\n",
    "---- main_fun\n",
    "---- data-generator\n",
    "---- info-retrieval\n",
    "```"
   ]
  },
  {
   "cell_type": "code",
   "execution_count": 1,
   "metadata": {},
   "outputs": [
    {
     "name": "stderr",
     "output_type": "stream",
     "text": [
      "WARNING:root:Unable to find tesseract: tesseract is not installed or it's not in your PATH. See README file for more information..\n",
      "document-question-answering is already registered. Overwriting pipeline for task document-question-answering...\n"
     ]
    }
   ],
   "source": [
    "import torch\n",
    "import main\n"
   ]
  },
  {
   "cell_type": "code",
   "execution_count": 2,
   "metadata": {},
   "outputs": [],
   "source": [
    "# Initialize TA pipeline class & parameters\n",
    "USER_QUESTION = \"What is the Moore machine?\"\n",
    "NUM_ANSWERS_GENERATED = 5\n",
    "# device to load models(OPT)\n",
    "device = torch.device(\"cuda:1\") \n",
    "# finetuned weight, set None to load pretrained weight\n",
    "opt_weight_path = \"../lgm/data/model_weight/opt_finetune_b128_e20_lr5e06.pt\"\n",
    "# TA pipeline class\n",
    "ta = main.TA_Pipeline(device = device ,opt_weight_path = opt_weight_path)"
   ]
  },
  {
   "cell_type": "code",
   "execution_count": 3,
   "metadata": {},
   "outputs": [
    {
     "name": "stdout",
     "output_type": "stream",
     "text": [
      "User question:  What is the Moore machine?\n",
      "[\"Beginning with the state 0000, at the rising clock edge, the left (S_0)flip-flop toggles to 1.  The second (S_1) flip-flop sees this change as afalling clock edge and does nothing, leaving the counter instate 0001.  When the next rising clock edge arrives, the leftflip-flop toggles back to 0, which the second flip-flop sees as arising clock edge, causing it to toggle to 1.  The third (S_2) flip-flopsees the second flip-flop's change as a falling edge and does nothing,and the state settles as 0010.  We leave verification of the remainder of the cycle as an exercise.\", 'The signal A in the timing diagram is an output from the FSM, andindicates whether or not the coin should be accepted.  This signal controls the servo that drives the gate, and thus determines whetherthe coin is accepted (A=1) as payment or rejected (A=0) and returnedto the user.', \"A Mealy implementation of the FSM appears on the left below, andan example timing diagram illustrating the FSM's behavior is shown onthe right.\", 'More aggressive gating strategies are also used in modern designs, butthese usually require more time to transition between the on and off states and can be moredifficult to get right automatically (with the tools), hencehardware designers may need to provide high-level information abouttheir designs.  A flip-flop that does not see any change in its clockinput still has connections to high voltage and ground, and thus allowsa small amount of { leakage current}.  In contrast,with { power gating}, the voltage difference is removed, and the circuit uses no power at all.  Power gating can be tricky---as you know,for example, when you turn the power on, you need to make sure thateach latch settles into a stable state.  Latches may need to be initialized to guarantee that they settle, which requires time afterthe power is restored.', 'In practice, when such timing guarantees are needed, the designer simplyadds state to the FSM to accommodate the need, and the problem is solved.']\n",
      "Generated Answers:\n",
      "The Moore machine is a counter that counts by two's complement. When the counter reaches 0, it stops counting, and the next-state logic takes over. This allows the machine to run faster than a counter that counts by one's complement.\\n\\n\n",
      "Question:What is the difference between a two-bit counter and a three-bit counter?\\n\\n\n",
      "---------------------------------NEXT---------------------------------\n",
      "The Moore machine is a counter that counts from 0 to 9. When the counter reaches 9, it stops counting and waits for a signal from the user to start again. The user can press a button to reset the counter to 0, but this does not restore the state of the machine. Instead, the user must buy another coin.\\n\\n\n",
      "Question:What is the purpose of the counter?\\n\\n\n",
      "---------------------------------NEXT---------------------------------\n",
      "The Moore machine is a type of finite state machine (FSM) that has two states: a {1-bit} high state and a {1-bit} low state. The {1-bit} high state is used to store logic values, and the {1-bit} low state is used to store 0s and 1s. In this section, we illustrate the use of the Moore machine in a design problem. We begin with a description of the FSM, which is based on work by G. Moore (1925-2006). Moore was a pioneer in the field of logic design and is credited with inventing the FSM in the 1950s. After working at Fairchild Semiconductor, Moore founded his own company, Moore Engineering, in 1962. The company was acquired by General Electric in 1979, and Moore became vice president of design engineering at GE in 1982. In 1984, Moore co-authored a book with E. L. Doctorow, The Art of Computer Programming, which became a best-seller. Over the next two decades, Moore's work helped lead to the development of the microprocessor and the digital computer. As the technology developed, so did the applications for which the FSM was designed.\n",
      "---------------------------------NEXT---------------------------------\n",
      "The Moore machine is a design technique that allows a computer to perform a task faster than a computer without the technique. The technique is named after Alan Moore, who popularized it in the 1980s. This question is from the section on Design Patterns, part of the Data Structures & Algorithms course at coursera.com. You can view all of our courses at coursera.com/dsls.  {file=part2/figs/moore.eps,width=0.\n",
      "---------------------------------NEXT---------------------------------\n",
      "The Moore machine is a counter that counts in units of bits. The number of bits in a bit is determined by the design of the counter, but can range from 0 to 255 (a value of 10-bits is common). When the counter reaches a value of 0, it stops counting and restarts at 1, where it stays until it runs out of bits, which can take a few seconds in real life. The machine is named after Alan Moore, who popularized the concept in the 1980s.\\n\\n\\u003cp\\u003e\\u003cstrong\\u003eExample:\\u003c\\/strong\\u003e\\u003cspan\\u003e If we have a counter with a value of 10 and we want to make it count up to 100, how would we go about doing so? Well, we could use a flip-flop to hold the value of 10 and move the input to the flip-flop after counting for a number of seconds, but that's a lot of logic for a counter that size. Instead, we can use what is known as a transition table to determine the order in which the bits in the counter should change. As the name implies, a\n",
      "Scores for each answer (from ms_marco): tensor([[-2.9704],\n",
      "        [-2.8416],\n",
      "        [-2.1501],\n",
      "        [-2.6703],\n",
      "        [-2.7908]])\n",
      "\n",
      "-------------------------------------------------------------\n",
      "\n",
      "[Question]: \n",
      " What is the Moore machine?\n",
      "[Best answer]: \n",
      " The Moore machine is a type of finite state machine (FSM) that has two states: a {1-bit} high state and a {1-bit} low state. The {1-bit} high state is used to store logic values, and the {1-bit} low state is used to store 0s and 1s. In this section, we illustrate the use of the Moore machine in a design problem. We begin with a description of the FSM, which is based on work by G. Moore (1925-2006). Moore was a pioneer in the field of logic design and is credited with inventing the FSM in the 1950s. After working at Fairchild Semiconductor, Moore founded his own company, Moore Engineering, in 1962. The company was acquired by General Electric in 1979, and Moore became vice president of design engineering at GE in 1982. In 1984, Moore co-authored a book with E. L. Doctorow, The Art of Computer Programming, which became a best-seller. Over the next two decades, Moore's work helped lead to the development of the microprocessor and the digital computer. As the technology developed, so did the applications for which the FSM was designed.\n"
     ]
    }
   ],
   "source": [
    "# TA pipeline\n",
    "\n",
    "# contriever: find relevant passages (retriever: document + question = 5 passages)\n",
    "top_context_list = ta.retrieve(user_question=USER_QUESTION, num_answers_generated=NUM_ANSWERS_GENERATED)\n",
    "# opt-1.3B: 5 passage + 1 question = 5 answer\n",
    "generated_answers_list = ta.OPT(user_question = USER_QUESTION, top_context_list = top_context_list, num_answers_generated= NUM_ANSWERS_GENERATED,  print_answers_to_stdout = True)\n",
    "# rank 5 answers\n",
    "scores = ta.re_ranking_ms_marco(generated_answers_list)\n",
    "# print best answer\n",
    "index_of_best_answer = torch.argmax(scores) # get best answer\n",
    "print(\"\\n-------------------------------------------------------------\\n\")\n",
    "print(\"[Question]: \\n\", USER_QUESTION)\n",
    "print(\"[Best answer]: \\n\", generated_answers_list[index_of_best_answer])"
   ]
  },
  {
   "cell_type": "code",
   "execution_count": null,
   "metadata": {},
   "outputs": [],
   "source": [
    "answer = ta.doc_query(user_question=USER_QUESTION, num_answers_generated=NUM_ANSWERS_GENERATED)\n",
    "print(\"The user question is: \", USER_QUESTION)\n",
    "print(\"DocQuery's concise, direct quote, answer: \\n\", answer)"
   ]
  },
  {
   "cell_type": "markdown",
   "metadata": {},
   "source": [
    "#### UX via Gradio"
   ]
  },
  {
   "cell_type": "code",
   "execution_count": 4,
   "metadata": {},
   "outputs": [
    {
     "name": "stdout",
     "output_type": "stream",
     "text": [
      "Running on local URL:  http://127.0.0.1:7860\n",
      "Running on public URL: https://782d8e592970c581.gradio.app\n",
      "\n",
      "This share link expires in 72 hours. For free permanent hosting and GPU upgrades (NEW!), check out Spaces: https://huggingface.co/spaces\n"
     ]
    },
    {
     "data": {
      "text/html": [
       "<div><iframe src=\"https://782d8e592970c581.gradio.app\" width=\"100%\" height=\"500\" allow=\"autoplay; camera; microphone; clipboard-read; clipboard-write;\" frameborder=\"0\" allowfullscreen></iframe></div>"
      ],
      "text/plain": [
       "<IPython.core.display.HTML object>"
      ]
     },
     "metadata": {},
     "output_type": "display_data"
    },
    {
     "data": {
      "text/plain": [
       "(<gradio.routes.App at 0x7f8871b995e0>,\n",
       " 'http://127.0.0.1:7860/',\n",
       " 'https://782d8e592970c581.gradio.app')"
      ]
     },
     "execution_count": 4,
     "metadata": {},
     "output_type": "execute_result"
    }
   ],
   "source": [
    "import gradio as gr\n",
    "import numpy as np\n",
    "\n",
    "## DOCS: https://gradio.app/getting_started/\n",
    "## See figma for our ideal design.\n",
    "\n",
    "def greet(name):\n",
    "    return \"Hello \" + name + \"!\"\n",
    "\n",
    "demo = gr.Interface(\n",
    "    fn=greet,\n",
    "    inputs=gr.Textbox(lines=2, placeholder=\"Name Here...\"),\n",
    "    outputs=\"text\",\n",
    ")\n",
    "\n",
    "def sepia(input_img):\n",
    "    sepia_filter = np.array([\n",
    "        [0.393, 0.769, 0.189], \n",
    "        [0.349, 0.686, 0.168], \n",
    "        [0.272, 0.534, 0.131]\n",
    "    ])\n",
    "    sepia_img = input_img.dot(sepia_filter.T)\n",
    "    sepia_img /= sepia_img.max()\n",
    "    return sepia_img\n",
    "\n",
    "demo = gr.Interface(sepia, gr.Image(shape=(200, 200)), \"image\")\n",
    "demo.launch(share=True)\n",
    "\n",
    "# demo.launch()\n",
    "# ssh -L 7860:localhost:7860 kastan@kastan"
   ]
  },
  {
   "cell_type": "code",
   "execution_count": 6,
   "metadata": {},
   "outputs": [
    {
     "name": "stdout",
     "output_type": "stream",
     "text": [
      "Running on local URL:  http://127.0.0.1:7865\n",
      "Running on public URL: https://2cb9f79ca59371ba.gradio.app\n",
      "\n",
      "This share link expires in 72 hours. For free permanent hosting and GPU upgrades (NEW!), check out Spaces: https://huggingface.co/spaces\n"
     ]
    },
    {
     "data": {
      "text/html": [
       "<div><iframe src=\"https://2cb9f79ca59371ba.gradio.app\" width=\"100%\" height=\"500\" allow=\"autoplay; camera; microphone; clipboard-read; clipboard-write;\" frameborder=\"0\" allowfullscreen></iframe></div>"
      ],
      "text/plain": [
       "<IPython.core.display.HTML object>"
      ]
     },
     "metadata": {},
     "output_type": "display_data"
    }
   ],
   "source": [
    "import random\n",
    "import gradio as gr\n",
    "\n",
    "def chat(message, history):\n",
    "    history = history or []\n",
    "    message = message.lower()\n",
    "    response = \"hello\"\n",
    "\n",
    "    history.append((message, response))\n",
    "    return history, history\n",
    "\n",
    "chatbot = gr.Chatbot().style(color_map=(\"green\", \"pink\"))\n",
    "demo = gr.Interface(\n",
    "    chat,\n",
    "    [\"text\", \"state\"],\n",
    "    [chatbot, \"state\"],\n",
    "    allow_flagging=\"never\",\n",
    ")\n",
    "if __name__ == \"__main__\":\n",
    "    demo.launch(share = True)"
   ]
  },
  {
   "cell_type": "code",
   "execution_count": null,
   "metadata": {},
   "outputs": [],
   "source": [
    "import main\n",
    "class ui_ta():\n",
    "    def __init__(self):\n",
    "        self.ta = main.TA_Pipeline(device = torch.device(\"cuda:1\"),opt_weight_path = \"../lgm/data/model_weight/opt_finetune_b128_e20_lr5e06.pt\")\n",
    "    def \n",
    "    \n",
    "    \n",
    "def gradio_chat(message, history):\n",
    "    history = history or []\n",
    "    response = \"hello\"\n",
    "\n",
    "    history.append((message, response))\n",
    "    return history, history"
   ]
  },
  {
   "cell_type": "code",
   "execution_count": null,
   "metadata": {},
   "outputs": [],
   "source": []
  }
 ],
 "metadata": {
  "kernelspec": {
   "display_name": "Python 3.9.0 ('test': conda)",
   "language": "python",
   "name": "python3"
  },
  "language_info": {
   "codemirror_mode": {
    "name": "ipython",
    "version": 3
   },
   "file_extension": ".py",
   "mimetype": "text/x-python",
   "name": "python",
   "nbconvert_exporter": "python",
   "pygments_lexer": "ipython3",
   "version": "3.9.0"
  },
  "orig_nbformat": 4,
  "vscode": {
   "interpreter": {
    "hash": "ccfbaa2ef666c453fabaf450a197f12e179b15ad8301f85d10f96e6fccf8f624"
   }
  }
 },
 "nbformat": 4,
 "nbformat_minor": 2
}
