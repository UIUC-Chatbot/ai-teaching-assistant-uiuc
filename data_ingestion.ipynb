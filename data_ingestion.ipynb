{
 "cells": [
  {
   "cell_type": "code",
   "execution_count": 3,
   "metadata": {},
   "outputs": [],
   "source": [
    "# import required libraries\n",
    "from langchain.chains import RetrievalQA\n",
    "from langchain.llms import OpenAI\n",
    "from dotenv import load_dotenv\n",
    "import os\n",
    "import re"
   ]
  },
  {
   "cell_type": "code",
   "execution_count": 4,
   "metadata": {},
   "outputs": [
    {
     "data": {
      "text/plain": [
       "True"
      ]
     },
     "execution_count": 4,
     "metadata": {},
     "output_type": "execute_result"
    }
   ],
   "source": [
    "# load API keys from globally-availabe .env file\n",
    "load_dotenv(dotenv_path='/mnt/project/chatbotai/huggingface_cache/internal_api_keys.env', override=True)"
   ]
  },
  {
   "attachments": {},
   "cell_type": "markdown",
   "metadata": {},
   "source": [
    "Loading one docx file into the dataloader"
   ]
  },
  {
   "cell_type": "code",
   "execution_count": 5,
   "metadata": {},
   "outputs": [
    {
     "name": "stdout",
     "output_type": "stream",
     "text": [
      "convert /mnt/project/chatbotai/asmita/non-public-datasets/raw_data/badm_567/BADM 567 MOOC 1 Module 1 Word Transcript.docx -> /tmp/tmpopmnuqhd/BADM 567 MOOC 1 Module 1 Word Transcript.docx using filter : MS Word 2007 XML\n"
     ]
    },
    {
     "data": {
      "text/plain": [
       "Document(page_content=\"Module 1: Operations Strategy\\n\\nHow does operations management touch our lives? To answer this question, I'm going to ask you to reflect on what you're currently doing, which is watching this video. I will ask you to put some thought into this and make a note about some related things. Get a pen or pencil and some paper or open a new tab or window on whatever software you use to take notes. Here's the assignment for you. You're watching this video on a device, desktop or a laptop or a tablet. It does not matter for our reflection. The question will apply in the same exact way. This is what I would like you to do. Think of the device that you're using to view this session and imagine the stages it went through. Think about how this device reached you, right from the design of this device to your current use. Once you've thought of these stages from the design of this device to the current day when you're using it, imagine the future. What will happen to this device? when you decide to upgrade? When you decide to get a new device. We're not looking for a complete and precise picture. There's no one right answer here. Instead, we're trying to get a sense of the different stages in the life cycle of this device. Through that, we can get a sense of the role that operations management, or OM for short, plays in products, goods, and services all around us. So now pause this video here, take 2-3 minutes to come up with as many stages as you can from the design of this device you are using to its disposal. Note the stages that you come up with and then when you continue watching this video, you can compare the stages you came up with against the list you will see on the next slide. \\n\\nHere are the general stages that any physical product like this one goes through from its design to its disposal. You probably came up with a similar list of stages. There's design, manufacturing, sales, and distribution, after-sale service, upgrades, and disposal.\\n\\nGoing deeper into this list of stages from design to disposal, you can get a sense of what operations management is, the role that operations plays in things that we commonly use, like this device. At the product design stage, managing the operations means combining the needs of different segments of customers with the available technology and with different price points. Companies decide the range of products that they want to offer, how often, and how they want to develop new products. Next, the manufacturing stage, operations management or OM, applies to this stage in many ways. Some parts for manufacturing this device are purchased. Now, these outsource parts are from suppliers. The suppliers are located either close to the manufacturing facility or they could be located far away. They could be hundreds or thousands of miles away. The manufacturer also makes some components in-house for which the facilities, \\n\\nthe factories need to be put together. \\n\\nDecisions need to be made about getting raw materials, hiring people, setting up manufacturing lines. For the outsource parts, there are single suppliers for some parts and dual and even multiple suppliers for other parts. The manufacturers select some of the suppliers based on price, who provides the lowest price. Some are selected based on quality, maybe even on the basis of a long-term relationship with the suppliers for different products. Then there's the assembly plant and all the decisions related to it. Where is it located? How much automation versus manual work is involved? How is the work structure? Is it an assembly line or a few cells in which the work is done? Are there many models of this device being put together simultaneously or sequentially in batches? What qualification do the workers need? How are they trained? What kind of wages are being paid to the workers? What kind of incentives do they have? What are the standards against which their work is being assessed? Are there any quality checks to ensure products are being made as expected? \\n\\nAfter manufacturing, there is sales and distribution. Did you purchase this online or did you walk into a store to check it out? Was this sold direct to you by the manufacturer or through a retailer? How was it delivered to you? Once you purchased it, did you need any help setting it up? At some point in its usage when you needed some troubleshooting, you probably called the number or chatted online with a service expert. Hope you did not need to send this device to the company for repairs,  but sometimes that can happen. After using this device for some time, you will need to upgrade it, when it gets outdated or your needs have changed. Does the manufacturer have an exchange or a take-back offer? At the end of the life of this product, is there a way to recycle this device? What will be the environmental impact of getting rid of this device? Taking this device as an illustration, you have recognized the role that operations place. You can picture all the different decisions that the company producing this device has to make, the choices it has and the trade-offs that the company has to consider. Related to these stages, operations management has different areas of specialization, new product development, logistics and supply chain, manufacturing, sales, and operations planning, environmental ethics, and there are many others. \\n\\nSimilar to this example, you can think of other products that you come across day-to-day. Goods, such as packaged foods, that packet of crackers or popcorn you munched on. Medical devices such as insulin pumps, blood pressure monitors, medicines, painkillers, antacids, airplanes, cars, bicycles, furniture, and the list go on and on. The role that operation plays in their design, production and delivery are things that you can relate to is based on the example that we've just seen. Different stages and different decisions will have different degrees of importance for different products.\\n\\nOperations also touches our lives through service products such as healthcare, education, airline travel, hotel stays and meals at restaurants. Service products require their own sets of operations management decisions for their design production and delivery. Some of the design production and delivery decisions for services are similar to designs for manufacturing operations. Some are going to be different and more uniquely applicable to service operations.\\n\\n   Operations management is about organizations effectively and efficiently using their resources. Effectively means that the organization uses the resources for the purpose of\\n\\nwhat it is offering to the customers. That the operation must be focusing on customer needs and providing those needs to the satisfaction or even the delight of those customers. Efficiently means that the organization uses the resources suitably from a cost-benefit perspective. In order to satisfy customer needs, the organization should acquire the right resources. Make use of them to deliver customer needs while maximizing the productivity of the operation, that is focusing on producing more while using less. In brief, operations refer to methods of organizing and doing work. Management of operations refers to organizing and doing the work well from the customer and the company perspectives. It may be important to point out here that the decisions for managing logistics and supply chains that are so closely related to decisions made for managing operations, that we can combine them under the umbrella term of operations management. Alternatively, we can refer to operations management using the expanded term of operations and supply chain management.\\n\\nThe input-process-output model is an integral part of operations management. This model is a common starting pointfor studying operations.To understand this input process-output model, let's start with the fact that operations refer to methods of organizing and doing work. Observe that all work can be described as a process that takes inputs and converts the inputs through steps in a transformation process into outputs. On a side note, notice that the input-process-output model can be abbreviated to IPO model. You may recognize the same IPO acronym, it also stands for initial public offering when you're referring to it in the context of financial investments and company ownership.\\n\\nIn the context of operations management, inputs such as raw materials for a product, let's say milk, heavy cream, sugar, salt, and vanilla extract are put together into a transformation process and packaged to produce the output, a box of vanilla ice cream.\\n\\nLet's get some more detail into the input-process-output model to understand the various operations management decisions involved in it. Let's start from the center: the transformation process. The transformation process adds value to inputs to create outputs. For example, combining milk, heavy cream, sugar, salt, and vanilla extract converting the mix through a churning process to create delicious vanilla ice cream.\\n\\nChanging the mix of inputs, adjusting the transformation process gives you eight different ice cream such as chocolate.\\n\\nWhat we need for transformation are resources. That's the location for equipment in the factory and human expertise or perhaps a secret recipe, as well as the method that is effective and efficient to convert inputs into outputs. We can expand this further.\\n\\nYou have suppliers supplying the inputs and customers consuming the products. To coordinate among the different parties, the suppliers, the operators, and the customers,\\n\\nas well as to keep track of things like the health of the equipment, there are systems for exchanging information, collecting data at different times, running data analytics. There'll be data on demand, there'll be data on supplier quality and quantity, there's data on performance metrics for people and machines, and any reporting requirement that is required for regulators.\\n\\nThen we have environmental factors that the manufacturing company needs to incorporate while making decisions on how to run the operation, this IPO. There are competitors, technological developments, and regulations. These factors dictate what changes the company can or should make to the operation in its different aspects. In the inputs, in the transformation processes, and the outputs from time-to-time.\\n\\nWhat we have here is a generic input process output view of operations that can be applied to operations at different levels of granularity. Level of granularity means that we can use the IPO model to picture the higher-level transformation process as a factory that produces ice cream or more specific and lower level set of steps within the ice cream manufacturing process. Say packaging, which has ice-cream and boxes as inputs and six packs of ice cream as outputs. The transformation process box that is at the center of this picture can be expanded into multiple IPO models with tasks as sub-processes with their own inputs and outputs.\\n\\nThe input-process-output model is useful because it can be used in several different contexts, because all work can be thought of as a process. Even day to day decisions,\\n\\nlike the process for planning a vacation or the process for packing your lunch or packing lunch for kids. Reflecting on different things to think about when applying the input-process-output model, first, the scope for applying the process. We can describe this using a different example of car manufacturing, the broader scope process for a car manufacturing operation will have inputs as parts and raw materials from the suppliers and the outputs as the cars that are delivered to dealers. Now picture this broader scope IPO as for the entire manufacturing plant, the entire assembly plant that has docks for unloading supplies from suppliers and loading cars for sending to the dealers.\\n\\nThe transformation process here can be described as the dock to dock transformation. In this large factory, there are several sub-processes, such as the stamping out of\\n\\nbody parts off the car from sheets of metal. The molding of plastic for the dashboard,\\n\\nthat each have their own IPO analysis. These IPO analyses have narrower scope\\n\\nthan the larger IPO that we talked about for the whole factory. What scope or what level of granularity you focus on is a choice that you make based on the purpose of your analysis of the operation. \\n\\nNext, the suppliers and the customers for the process. As you dive deeper into more granular processes and apply the IPO model, notice that the suppliers and/or the customers for the sub-processes can be internal suppliers and/or customers. Now this is an important point to keep in mind when we study operations. That when we say customers in the context of operations management, at times we're referring to internal customers. For example, the customer for an ice cream making sub process is the packaging sub-process. The supplier of the packaging process is the ice cream manufacturing sub-process. Another categorization for processes is that of core processes and supporting processes. Here, the distinction is based on what is the core business of the company. For an ice cream manufacturing company, the core processes are related to the manufacturer of ice cream. However, the ice cream business also needs to have non-core processes, such as to hire employees, maintain the records, do their payroll, including tax deductions and so on and so forth. There are support processes which are designated as such based on the nature of the core process. Finally, on the topic of this IPO view of operations, observe that the frequency with which a process is repeated varies greatly based on the objective of the process.\\n\\nA process for developing a new flavor of ice cream in the test kitchen will have a longer time period and much less frequency as compared to the frequency of the process for making and packaging ice cream in the factory.\\n\\nLet's reflect on the idea of input process output model by having you picture its applications. What I'd like you to do is use the input-process-output view and apply it to any organization that you know of, any company or any non-profit. Apply the input-process-output view and  think about the main outcomes that this organization produces.\\n\\nNext, in addition to the core operations, the core processes, reflect on some of the sub-processes for the core processes. What are some of the interim things that the organization must do to get the big things done? Finally, think of the support processes\\n\\nthat support the existence of the core processes. Pause this video and take a few minutes to select an organization, picture an organization and think of its core processes, its sub-processes for that core process or processes and the supporting processes that are not directly related to the core product, but are necessary for the working of the core process.\\n\\nNow that you've had a chance to reflect on this idea of the process and the sub-process, core processes and support processes, what you may have thought about is a manufacturing business, for example,  a company that let's say, makes furniture. What would be the main inputs and the outputs of their core process, which is making furniture? Getting wood and other materials, and delivering outputs which are furniture, tables, chairs, storage units, etc., which are deliverables for external customers. What you may have thought of alternatively, is a service business. You could have thought about a fast-food restaurant. Now, a fast-food restaurant, they get materials, they convert them into the food that is delivered to the customers. Take the furniture business, the manufacturing example. You can break that down into making sub-assemblies that are made inside the main process. The big process that takes wood and converts it into furniture, the sub-processes are going to be for making the sub-assemblies. They'll be making the legs of the chair and they’ll be making the tabletops that need to be put into each of the products. If you take the example of the service, the fast-food restaurant, the core process there is the customer walking in hungry and walking out satiated.\\n\\nThere are several sub-processes, for example order taking and delivery, the food preparation, the ordering and receiving of supplies. Now for the support processes for both these examples. Both the manufacturer and the service provider have to set\\n\\nup and maintain information technology, they have to have online systems, they both have to file their taxes, so for all of these, they will need support processes. In these examples, you can also reflect on the internal and external suppliers and customers and you can also think of the frequency of repetition of each of the processes and sub-processes.\\n\\nHere is a summary of some general features of processes that you can keep in mind when applying the input-process-output model. You can pause this video again, and go over the summary.\\n\\nThe point of this reflection, this application of the input-process-output view is that this model serves as a good starting point for starting to analyze the operations of any business. As depicted in this picture that I have adapted from a highly recommended article on business strategy, the ultimate goals, are efficiency and effectiveness of operations, which translate into greater sales, better margins, and making the most of the assets, the resources in which the company has invested.\\n\\n\\nLoosely defined, a strategy is a plan with some objectives. Here are two textbook definitions of business strategy. The first definition mentions integration and coordination, which suggests that there are multiple parts of an organization that are involved. Commitments and actions suggest investments and deliberate implementation. And competencies and competitive advantage signify the importance of the business having some capability in which it is superior to other businesses. The second definition of strategy emphasizes the uniqueness of what is delivered to customers by deliberately doing something different than competitors. In other words, give customers something they value that competitors are not giving. \\n\\nWhile the business strategy focuses on the overall business, there are multiple functions in any business that formulate and implement their strategies, and they should be doing these in alignment. That is integration and coordination with the business strategy as well as with other functional strategies. For example, you don't want a scenario that has the sales function pursuing customers that solely focus on low price while the operations function, the operations department, is focused on offering highly customized products that are very highly priced.\\n\\nHere is a popular textbook definition of operation strategy. This emphasizes integration and coordination, including the need to contribute to the overall strategy and the reconciliation of customer needs or market requirements with investments in operations resources.\\n\\nLet's take a deeper dive into the elements of operation strategy. These elements include aspects of the environment that need to be considered in making decisions for the formulation and implementation of the operation strategy. The three double-sided arrows shown at this stage of building this picture depict the reconciliation or the negotiation among the different elements. The target customers for a business have an effect on the competencies and operations that they should seek to build. At the same time., a business can select markets, it can select customers to compete for, based on their existing operations competencies. The business can also select markets to compete in based on having some inherent unique competitive advantage in those particular markets. In a similar vein, operations competencies can impact marketing strategy and human resource decisions. Alternatively, operations decisions can be impacted by marketing HR and other strategic decisions. The single-sided solid arrow represents the impact of the broader external environment, technology regulations, and competitors, and you can even include suppliers. The single-sided dotted arrow for performance indicates that business performance is impacted partially by operation strategy because there are going to be decisions, other decisions, for example, related to marketing and financial investments that are outside the scope of operation strategy, that are also going to impact business performance. Moving inside the box, there are three elements that have to do more with the implementation of the operation strategy. The first one is customer requirements. This involves determining what are the expectations of the target customers, and what do the operational competencies of this business make it possible for offering the target customers? Customer requirements are a collection of all the reasons that customers pay money for the product and for purchasing it from this company. These customer requirements are called order qualifiers and order winners. Next is competitive capabilities that come from operations, the operations capabilities. What competitive capabilities are being built in operations to be able to cater to customer requirements, the order winners and order qualifiers? And in the other direction of the arrow, what extra can the company offer to customers based on some unique capability developed by the company? The third element in this box represents the decisions,  the investments made by the company in order to build those operations capabilities. These decisions are made in light of the existing and planned competitive capabilities from operations.\\n\\nLet's understand in more depth each of the three elements, the three core areas of\\n\\noperation strategy implementation – customer requirements, competitive capabilities from operations, and decision areas for investments in operation strategy. We start with the question: What does the market want? Or more precisely, what do the targeted customers value? Different types of targeted customers might have different requirements. They might have different compromises that they are willing to make. Let's say for example, between cost and quality. Some customers might value quality more and are willing to pay a higher price. Others might say, I'm very cost-conscious,\\n\\nvery price-conscious, and I can compromise on quality a bit if necessary. The question here is getting at, what do the targeted customers value? Next, note that the market is not going to be stationary, it will be dynamic. It's going to be changing. This next question gets at, how is the market changing? Similarly, the company is focusing on certain customer segments.The question there is, are the customer needs going to be changing, and how do you want to react to those changes? Whether the company wants to go with those changes and target those customers different needs, the needs that are changing, or whether the company wants to say,we are going to get out of this market because the customer needs have changed so much and we're simply not able to offer what the customer wants in a better way than competitors are offering for the same products.\\n\\nGoing into a greater level of detail about customer requirements brings us to the question of order qualifiers and order winners. This is the idea that everything that a customer requires and appreciates is not going to be at the same level. Some features may be absolute must-haves. Now some features may be valued as bonus features. Order qualifiers are the minimum criteria that a customer expects. They are features and qualities that a customer will absolutely want from a product. For example, thinking about an airline. What's something that customers expect from any airline, any airline they might be flying or any ticket they might be purchasing? Any customer who takes a flight is going to be expecting safety. Customers want to get from point A to point B and they want to get there safely. That's going to be an order qualifier, and that's something that all customers of airlines will look for in all kind of airlines. Now, order winners, they are the features that a customer would appreciate, but may not ordinarily expect. To put it more strongly, these features or qualities are not deal breakers for selecting that provider for the product. If you're talking about the airline, for example, the order winner could be an allowance for two bags to be checked in for free. For different customer segments, the order winners may not be that same idea of free checked-in bags. For different customers the order winners can be flexibility to change tickets without paying extra or to get preference seats through different airline loyalty programs.\\n\\nAs we think about this idea of order qualifiers and winners, it is important to observe\\n\\nthe dynamic nature of these two buckets of customer requirements. First, order qualifiers and winners can be different sets for different customer segments. For example, for the occasional traveler buying an airline ticket for a leisure trip, price is an order qualifier, but for the frequent business traveler, it is not. For the occasional leisure traveler, getting free checked-in bags is an order winner, but not for the business traveler. For the business traveler, the flexibility to change is an order qualifier and bonus miles is an order winner. Second, order winners can become order qualifiers even for the same customer segment, over time. A clear example of this is our cell phones. Having a camera on a phone was not always an expectation, but today, a camera is an order qualifier. Third, depending on the pace of change in the technology used in a product, the order-winning features can become order qualifiers more quickly than for products in which the pace of change is slower. Finally, in more competitive markets, the additional features offered by producers can impact customer expectations. Customers may start routinely expecting features that they did not know that a product could offer. Order qualifiers and winners are from the customer's perspective. It's what the customer expects, what the customer values.\\n\\nNow the other side of the picture in which we depicted order qualifiers and winners\\n\\nis the operations capability side. Here, the questions are similar to those that we ask for customer requirements, the order winners and qualifiers. Except in the case of operations capabilities, the questions are focusing on what the current capability is. What should be the targeted capability from operations? If we're not able to have the targeted capability for a changing market, should we be targeting different customers or should we acquire a firm that can help us build that capability, or should we develop that capability in-house? Finally, similar to the case for order winners and qualifiers, it is important to think, is the current market changing? Is it growing or declining? Do we need to change capabilities based on that? Does operations have the capability to keep on serving the targeted market, the changing needs of this market over a longer period of time? These are important questions for the company to survive, to have a sustainable competitive advantage over time. Can the company sustain the competitive advantage that they're getting from operations?\\n\\nOrder qualifiers expected by customers and competitive capabilities that operations need to build can be pictured as two sides of the same coin. Here are a few examples of such combinations from products, goods, and services that you can reflect on as applications of this concept. You can pause this video here and take some time to observe these examples of order qualifiers and competitive capabilities from operations.\\n\\nHere is a list of capabilities that are commonly listed as capabilities that are developed through operations. Operations can be designed with more or less emphasis in one or more of these capabilities. So here's the list, cost, quality control, quality features,\\n\\ndelivery speed, delivery reliability, mixed flexibility, volume flexibility.\\n\\nLet's take the example of restaurants. Let's take one fast food chain store and one luxurious sit-down restaurant, and let's reflect on the order qualifiers, expectations, and the order winners, delighters, that would apply to customers going to the two types of restaurants. Pause this video here, take two to three minutes to come up with order qualifiers and order winners for the two restaurant types. The two restaurant types are fast food restaurant and a sit-down luxurious restaurant.\\n\\nHere is what I came up with. For order qualifiers, safely prepared food and perhaps a level of cleanliness is an expectation for both types of restaurants. Whether I'm going into a fast-food restaurant for a quick bite, or to a luxurious sit-down restaurant for a leisurely meal. In addition, my minimum expectation for the two restaurants. My minimum expectations for a fast food versus a luxurious restaurant, in addition to these two that we've already mentioned, are going to be different. For the fast-food restaurant, you're also going to expect at a minimum that the price should be low. You're also going to expect that the delivery should be quick. For the luxurious sit-down restaurant, you're going to expect attentive service, you're going to expect personalization of your dishes. Now, the order winners. For the fast-food restaurant, this can be a toy with the kids' meal or a chance to win a big prize or a free meal based on peeling off a sticker on some cup of some drink. For the luxurious sit-down restaurant, the order winner that customers will value maybe fantastic wine selection. Or another order winner that customers might value is going to be highly knowledgeable servers who may even address the customers by their first names. Now your list that you've come up with may have some of the same auto qualifiers and winners of course this list can be different based on individual preferences.\\n\\nThe goal of operations management is to deliver the order qualifiers that customers expect at a minimum and the order winners that delight customers and that will encourage customers to select our products over competitors. In order to deliver on customer expectations whether they are order qualifiers or order winners, companies need to develop competitive operations capabilities for the organization and the execution of work. These capabilities are developed through deliberate decisions about investments, investments, and resources as well as careful design of work processes. Put another way the choices made in these decision areas, determine the capabilities that the company hopes to build, capabilities that the companies hope to maintain in pursuit of the order winners and qualifiers. A well-developed and executed operation strategy calls for alignments among all the elements, the order qualifiers, and winners of target customers. The competitive capabilities needed, and the choices made in each of the decision areas. These decision areas for implementing operation strategy are divided into two sets. The first set of decision areas are investments that represent more long-term commitments than the next list which comprises of decisions related to the organization of work. The first two decision areas are about the location and design of the facility. For example, for a fast-food restaurant, where should it be located? How much seating space and how many drive through lanes should be built and how should the front of the restaurant and the back of the restaurant be laid out? The third decision in this list is about the technology to be adopted, for example, the ordering system for the restaurant or if we were to take a different context, let's say for a steel manufacturing plant. The selection between different types of furnaces for producing steel. Finally, the decision about vertical integration is about deciding the investments the company is making for in house production versus outsourcing from external suppliers.\\n\\nContinuing on with the decision areas for implementing operation strategy. The second list of decision areas are those that are somewhat easier to change as compared to that first list, for example, changing the salary and incentive structure for employees can be done more quickly more readily, at least in theory than changing the location or size or the design of a facility. This list starts with decisions about compensating and incentivizing employees to get them to work towards desired capabilities. For example, for employees to focus more on quantity or more on quality. Second, the type of quality management system that is implemented in a company impacts how quality is checked and how it is maintained and improved. Is the quality management dependent on inspections or is it a proactive quality improvement initiative? Third, scheduling of production has to do with choices such as making products to put in stock or starting to make them after receiving the order. Now for the higher volume products scheduling decisions including determining, include determining the general basis for selecting batch sizes. Decisions about centralized versus decentralized control of production are, for example about consolidated purchasing of materials at different locations of a company versus giving autonomy to managers of different locations to make their own material purchasing decisions. In all combining the areas for decisions related to long term investments and resources and the more medium term decisions related to organization of the work together determine the strategic direction of the operations. Based on how well these decisions are coordinated and executed, the company will be able to build competitive capabilities and be able to cater to the order qualifiers and order winners for the targeted customers.\\n\\nTradeoffs are compromises that are reflected in decisions made by companies and business units. Tradeoffs mean that a company or a unit within a company cannot be everything to everybody, that a gourmet sit-down restaurant is not designed to deliver food quickly and cheaply. And a fast food restaurant similarly is not designed to deliver gourmet food or to highly customize the order based on customer needs. Reflecting on the four generic capabilities that a business can achieve from its operations, cost, quality, delivery and flexibility, we can picture different pairs of compromises such as for example, if flexibility in the process is increased,the cost advantage may be  compromised. If quality is improved, the cost may increase. Now it is important to recognize the existence of such tradeoffs and ensure that different functions of the business such as marketing and human resource management are aware of these tradeoffs and that their accounting for them in their own decisions.\\n\\nIt is also important to push against the existence of such tradeoffs, to push the boundaries to try and overcome the compromises and develop combined higher levels of, otherwise contrary sounding competencies. So the idea of cumulative capabilities, it follows this logic of breaking the tradeoffs, building capabilities such as producing high quality products while giving flexibility to the customer, giving them choices without requiring long lead times and without increasing the price. To clarify the idea of compromises and the accumulation of capabilities, the contrast between these two, we can depict two aspects on these pictures.\\n\\nHere we have an organization placed at a certain point on the cost efficiency responsiveness graph. This organization moves to improve on one axis while deteriorating on the other. This shows a compromise or a tradeoff and this may be the only choice for a business.\\n\\nHere we have an organization moving from its current capability level on the cost efficiency responsiveness graph to a higher capability on both. This depicts the accumulation of capabilities. Such cumulative capabilities are generally more challenging than accepting the tradeoffs, but it is such cumulative capabilities that may be valuable for a business in targeting a set of order winner features that a competitor cannot achieve.\\n\\nA prime example of these two notions of tradeoffs versus cumulative capabilities is evident in the way in which the fortunes in the car manufacturing business changed over time between Ford and Toyota. Now, Ford has been manufacturing cars since the early 1900s and traditionally it has relied on offering the customers no choice even in the color of the cars, so that they could control costs. Henry Ford is famously quoted as saying “we will give you any color car as long as it is black”. Toyota changed the game by building capabilities that allowed the company to offer different versions of cars without sacrificing costs without charging a premium on the price. Now they did this by pioneering the development of cumulative capabilities. By doing so, Toyota has caused a paradigm shift in the car industry.\\n\\nThe notion of breaking the tradeoffs and operations capabilities is also reflected in the strategy and decisions of what is called mass customization. As this name suggests, mass customization is the capability of producing products that are customized to meet specific customer needs while charging low prices. This is achieved through the use of mass production techniques to the extent possible, which keeps the cost low and combining it with customization commonly towards the end of the production process, which delights customers because they get what they want to some extent without having to pay too much of a price premium. Mass customization can be achieved through the use of some combination of the techniques of modular designs and postponement of finishing, which in turn can be achieved through using an assemble to order sub process or through customer involvement of some type.\\n\\nSome examples of the use of mass customization techniques that you may recognize are the Nike-for-you shoes, Hallmark’s personalized books, M&M's customized candies and sandwiches from Subway. These products combine mass production with some personalization and customization.\\n\\nRelated to the idea of breaking the tradeoffs is the use of 3D printing or what is also called additive manufacturing, which can be used to make individual units of a product at a reasonable price without having to scale up production to large quantities. Companies are constantly pushing the envelope through creative ideas and the use of technology to break traditional tradeoffs and operation strategy, which means there is never a dull moment when working in operations.\\n\\nLet’s focus our attention on the differences between physical goods and intangible services so that we can recognize the peculiarities of service operations. We want to get a sense of the challenges of managing the processes for designing, producing, and delivering servicesas compared to manufactured goods. Products can broadly be classified into physical goods and intangible services. However, most products are\\n\\nsome combination of goods and services. So it helps to visualize this as a continuum of goods and services and to consider products as goods-services bundles.For example, cars require manufacturing. They are mainly goods, but they also require maintenance services going to the dealership to get the car serviced. Similarly, restaurants are primarily a service, but have tangible components of the food, and the silverware, and the cutlery. On the extreme ends of this continuum, a lumber business deals mainly with physical goods, while healthcare provides a service that is intangible. The reason for placing these products on the continuum is to consider the implications for managing their operations. It is not productive, trying to be absolutely precise about the exact positioning of a product or a business dealing with that product on this continuum, but rather recognize the effects of the goods-services features on operations. In fact, it is also helpful for applying the distinction to processes rather than products. So processes that are more service type versus more manufacturing type. Generally speaking, for services, employees and customers are involved in the process for delivering the services in a larger proportion as compared to goods. For example, in the case of someone taking a flight or having a meal, the customer spends time in the airplane\\n\\nor at the restaurant where the employees are present, and there is interaction among the employees and customers for some of that time.\\n\\nLet's pause here for you to reflect on these distinctions and their relevance by using the example of a coffee shop. Let's take Starbucks or any coffee or tea shop you are familiar with. Think of what they're offering their customers. What are the physical goods and what are the intangible services that customers expect when they go to a coffee shop? The physical goods are coffee, tea, perhaps other drinks, as well as food that the store sells. The intangible services are the personalized service and the ambiance of the coffee shop.\\n\\nThe relevance of this distinction comes from the differences in the things the provider has to focus on. The characteristics of goods and services and the different challenges that a service operation brings. Services are more intangible. They are after all, experiences. There is higher customer contact, which makes employee training in employee autonomy that much more critical. Quality is harder to define for services because services are inherently intangible. This makes it challenging to assess quality and to offer service guarantees to customers. We often have to use capacity for uncertainty when we're talking about services because offering item from inventory is not an option. Production and consumption in services is mostly simultaneous, so there is little scope for errors and there is no scope for returns and repairs.\\n\\nWhile the management of service operations is a large and broad topic, here are three concepts that are useful in managing the peculiar challenges of services as opposed to manufacturing operations. Customer variability, front-office and back-office, and the service profit chain.\\n\\nIt is important to recognize the extent of variability in customer demand for services and to recognize the types of variability in order to come up with ways to manage it. Here is a list of the types of variability that I have adopted from a popular services marketing article. First, there is arrival variability. The timing of the demand of customers is uncertain. There is request variability, which is what the customer demand varies. Each customer can have a completely different demand. There is capability variability, and this refers to customers having different levels of ability in the things they need to do to have a good service experience because at the end of the day, services are a core production environment where the employees or customers are working together.\\n\\nThere's effort variability. Customers have different motivation levels to want to put in the necessary effort toward having a good service experience. Finally, there is subjective preference variability. Different customers have different ideas of what good service means.\\n\\nTo manage the variability in customer demand, businesses can either try to smoothen the demand. For this, you can think of happy hour when there are lower prices offered during off-peak times. Businesses can give appointments and hold customers to it.\\n\\nBusinesses can also find ways to encourage customers, for example, to put shopping cards back in the cart corral. They can find ways to encourage customers to bring all the relevant information when they come for a doctor visit or go for a tax appointment. Alternatively, businesses can find ways to react to the different demand fluctuations by doing things like hiring temporary employees, using automation to some degree, and even triaging customers and sending them through different processes based on their idiosyncratic needs.\\n\\nThe front-office of a service business is where customers are in the service environment, and for some of the time they are there interacting with the employees.\\n\\nHere's the application of this concept of front-office and back-office in the context of a coffee shop. You can pause this video and picture this line between the front-office and the back-office in the context of a coffee shop. This idea can also be applied to the virtual storefront of a company's website.\\n\\nA front office by virtue of offering chances for employees to interact with customers offers opportunities to wow the customers. Think of servers at a sit-down restaurant, they're checking in on customers. You can also think of businesses being able to mass customize based on the front office, think customization of the sandwich at a Subway. If you've been to a teppanyaki style restaurant or a fondue restaurant where the food is cooked at your table, their strategy is to bring the cooking to the front office. This gives the chefs opportunities to wow the diners, as well as for customers to participate and ask for customizations. Now at the same time, on the other side, bringing the cooking to\\n\\nthe front office also carries with it the risks of errors happening in front of the customers. It also means there can be inefficiencies, for example, when customers make many idiosyncratic and unusual demands from the chefs.\\n\\nNext is the service-profit chain model that can be summarized in three pieces. Now the service profit chain model starts from the idea that you hire the right employees for the job, train them well, give them some level of autonomy, and give them the resources to do their job well. This results in increasing employee satisfaction with the result that employee turnover is reduced, employees remain with the service company for a longer period. Happy and long-time employees deliver good service to customers. Long-term employees become experts at anticipating customer needs and also at reacting to errors and recovering well from them. This increases customer satisfaction and generates repeat customers, which results in increasing sales and profits.\\n\\nIn short, happy employees lead to happy customers and happy shareholders or owners.\", metadata={'source': '/mnt/project/chatbotai/asmita/non-public-datasets/raw_data/badm_567/BADM 567 MOOC 1 Module 1 Word Transcript.docx'})"
      ]
     },
     "execution_count": 5,
     "metadata": {},
     "output_type": "execute_result"
    }
   ],
   "source": [
    "from langchain.document_loaders import UnstructuredWordDocumentLoader\n",
    "\n",
    "loader = UnstructuredWordDocumentLoader(\"/mnt/project/chatbotai/asmita/non-public-datasets/raw_data/badm_567/BADM 567 MOOC 1 Module 1 Word Transcript.docx\")\n",
    "data = loader.load()\n",
    "data[0]"
   ]
  },
  {
   "attachments": {},
   "cell_type": "markdown",
   "metadata": {},
   "source": [
    "Loading the entire directory into the loader"
   ]
  },
  {
   "cell_type": "code",
   "execution_count": 6,
   "metadata": {},
   "outputs": [
    {
     "name": "stderr",
     "output_type": "stream",
     "text": [
      "detectron2 is not installed. Cannot use the hi_res partitioning strategy. Falling back to partitioning with the fast strategy.\n",
      "detectron2 is not installed. Cannot use the hi_res partitioning strategy. Falling back to partitioning with the fast strategy.\n",
      "detectron2 is not installed. Cannot use the hi_res partitioning strategy. Falling back to partitioning with the fast strategy.\n",
      "detectron2 is not installed. Cannot use the hi_res partitioning strategy. Falling back to partitioning with the fast strategy.\n"
     ]
    },
    {
     "name": "stdout",
     "output_type": "stream",
     "text": [
      "convert /mnt/project/chatbotai/asmita/non-public-datasets/raw_data/badm_567/BAMD 567 MOOC 1 Module 3 Word Transcript.docx -> /tmp/tmp8q92wuu_/BAMD 567 MOOC 1 Module 3 Word Transcript.docx using filter : MS Word 2007 XML\n",
      "convert /mnt/project/chatbotai/asmita/non-public-datasets/raw_data/badm_567/BADM 567 MOOC 1 Module 4 Word Transcript.docx -> /tmp/tmp80end4by/BADM 567 MOOC 1 Module 4 Word Transcript.docx using filter : MS Word 2007 XML\n",
      "convert /mnt/project/chatbotai/asmita/non-public-datasets/raw_data/badm_567/BADM 567 MOOC 1 Module 1 Word Transcript.docx -> /tmp/tmpflywd0ia/BADM 567 MOOC 1 Module 1 Word Transcript.docx using filter : MS Word 2007 XML\n"
     ]
    },
    {
     "data": {
      "text/plain": [
       "8"
      ]
     },
     "execution_count": 6,
     "metadata": {},
     "output_type": "execute_result"
    }
   ],
   "source": [
    "from langchain.document_loaders import DirectoryLoader\n",
    "\n",
    "loader = DirectoryLoader(\"/mnt/project/chatbotai/asmita/non-public-datasets/raw_data/badm_567\")\n",
    "docs = loader.load()\n",
    "len(docs)"
   ]
  },
  {
   "attachments": {},
   "cell_type": "markdown",
   "metadata": {},
   "source": [
    "Initializing tokenizer and text splitter"
   ]
  },
  {
   "cell_type": "code",
   "execution_count": 9,
   "metadata": {},
   "outputs": [
    {
     "name": "stderr",
     "output_type": "stream",
     "text": [
      "/home/avd6/utils/miniconda3/envs/langchain/lib/python3.11/site-packages/tqdm/auto.py:21: TqdmWarning: IProgress not found. Please update jupyter and ipywidgets. See https://ipywidgets.readthedocs.io/en/stable/user_install.html\n",
      "  from .autonotebook import tqdm as notebook_tqdm\n"
     ]
    }
   ],
   "source": [
    "from langchain import text_splitter\n",
    "from transformers import AutoTokenizer\n",
    "from langchain.text_splitter import CharacterTextSplitter\n",
    "\n",
    "tokenizer = AutoTokenizer.from_pretrained('OpenAssistant/oasst-sft-1-pythia-12b')\n",
    "\n",
    "doc_splitter = CharacterTextSplitter.from_huggingface_tokenizer(tokenizer, chunk_size=682, chunk_overlap=100)"
   ]
  },
  {
   "attachments": {},
   "cell_type": "markdown",
   "metadata": {},
   "source": [
    "Creating a list of document-wise IDs and metadata"
   ]
  },
  {
   "cell_type": "code",
   "execution_count": 10,
   "metadata": {},
   "outputs": [
    {
     "name": "stdout",
     "output_type": "stream",
     "text": [
      "[{'file_name': 'BADM 567 MOOC 1 Module 2 Word Transcript.docx', 'module_name': 'Module 2: Process Configurations and Metrics'}, {'file_name': 'BADM 567 MOOC2 Module 1 Word Transcript.pdf', 'module_name': 'Module 1: Infrastructure for Organizational Learning'}, {'file_name': 'BADM 567 MOOC2 Module 2 Word Transcript.pdf', 'module_name': 'Module 2: Process Improvement Projects in Continuous'}, {'file_name': 'BADM 567 MOOC2 Module 3 Word Transcript.pdf', 'module_name': 'Module 3: Measurement and Analysis for Process Improvement'}, {'file_name': 'BADM 567 MOOC2 Module 4 Word Transcript.pdf', 'module_name': 'Module 4: Designing Improvements and Sustaining Changes'}, {'file_name': 'BAMD 567 MOOC 1 Module 3 Word Transcript.docx', 'module_name': 'Module 3: Inventory Management '}, {'file_name': 'BADM 567 MOOC 1 Module 4 Word Transcript.docx', 'module_name': 'Module 4: Supply Chain Management '}, {'file_name': 'BADM 567 MOOC 1 Module 1 Word Transcript.docx', 'module_name': 'Module 1: Operations Strategy'}]\n",
      "['BADM_567_MOOC_1_Module_2', 'BADM_567_MOOC2_Module_1', 'BADM_567_MOOC2_Module_2', 'BADM_567_MOOC2_Module_3', 'BADM_567_MOOC2_Module_4', 'BAMD_567_MOOC_1_Module_3', 'BADM_567_MOOC_1_Module_4', 'BADM_567_MOOC_1_Module_1']\n"
     ]
    }
   ],
   "source": [
    "# creating metadata for the docs\n",
    "\n",
    "metadatas = []\n",
    "doc_ids = []\n",
    "\n",
    "for i in range(len(docs)):\n",
    "    source = docs[i].metadata['source']\n",
    "    content_list = docs[i].page_content[:100].split(\"\\n\")\n",
    "    module_name = [ele for ele in  content_list if re.match('Module\\s\\d:', ele)][0]\n",
    "    \n",
    "    file_name = source.split(\"/\")[-1]\n",
    "    metadatas.append({'file_name': file_name, 'module_name': module_name})\n",
    "\n",
    "    title = file_name.split(\" \")[:-2]\n",
    "    id = \"_\".join(title)\n",
    "    doc_ids.append(id)\n",
    "\n",
    "print(metadatas)\n",
    "print(doc_ids)"
   ]
  },
  {
   "attachments": {},
   "cell_type": "markdown",
   "metadata": {},
   "source": [
    "Splitting the individual docs into chunks"
   ]
  },
  {
   "cell_type": "code",
   "execution_count": 11,
   "metadata": {},
   "outputs": [],
   "source": [
    "split_documents = []\n",
    "\n",
    "for i in range(len(docs)):\n",
    "    doc = docs[i].page_content\n",
    "    texts = doc_splitter.split_text(doc)\n",
    "    split_documents.append(texts)"
   ]
  },
  {
   "attachments": {},
   "cell_type": "markdown",
   "metadata": {},
   "source": [
    "Initiate embeddings stuff"
   ]
  },
  {
   "cell_type": "code",
   "execution_count": 12,
   "metadata": {},
   "outputs": [
    {
     "name": "stderr",
     "output_type": "stream",
     "text": [
      "No sentence-transformers model found with name /home/avd6/.cache/torch/sentence_transformers/intfloat_e5-large. Creating a new one with MEAN pooling.\n"
     ]
    }
   ],
   "source": [
    "from langchain.vectorstores import Pinecone\n",
    "from langchain.embeddings import HuggingFaceEmbeddings\n",
    "import pinecone\n",
    "\n",
    "model_name = \"intfloat/e5-large\"\n",
    "embeddings = HuggingFaceEmbeddings(model_name=model_name)"
   ]
  },
  {
   "cell_type": "code",
   "execution_count": 13,
   "metadata": {},
   "outputs": [
    {
     "data": {
      "text/plain": [
       "HuggingFaceEmbeddings(client=SentenceTransformer(\n",
       "  (0): Transformer({'max_seq_length': 512, 'do_lower_case': False}) with Transformer model: BertModel \n",
       "  (1): Pooling({'word_embedding_dimension': 1024, 'pooling_mode_cls_token': False, 'pooling_mode_mean_tokens': True, 'pooling_mode_max_tokens': False, 'pooling_mode_mean_sqrt_len_tokens': False})\n",
       "), model_name='intfloat/e5-large')"
      ]
     },
     "execution_count": 13,
     "metadata": {},
     "output_type": "execute_result"
    }
   ],
   "source": [
    "embeddings"
   ]
  },
  {
   "attachments": {},
   "cell_type": "markdown",
   "metadata": {},
   "source": [
    "Create a chunk-wise list of IDs, embeddings, and metadata"
   ]
  },
  {
   "cell_type": "code",
   "execution_count": 26,
   "metadata": {},
   "outputs": [],
   "source": [
    "# generate the (id, vector, metadata) list\n",
    "\n",
    "document_embeddings = []\n",
    "document_metadatas = []\n",
    "document_ids = []\n",
    "# iterate over documents\n",
    "for i in range(len(split_documents)):\n",
    "    doc = split_documents[i]\n",
    "    metadata = metadatas[i]\n",
    "    doc_id = doc_ids[i]\n",
    "\n",
    "    # iterate over chunks of a single module document\n",
    "    for j in range(len(doc)):\n",
    "        chunk = doc[j]\n",
    "        chunk_embedding = embeddings.embed_documents([chunk])\n",
    "\n",
    "        # create chunk wise IDs and metadata\n",
    "        id = doc_id + \"_chunk_\" + str(j)\n",
    "        metadata[\"chunk\"] = j\n",
    "        \n",
    "        # append to respective lists\n",
    "        document_embeddings.append(chunk_embedding[0])\n",
    "        document_ids.append(id)\n",
    "        document_metadatas.append(metadata)\n"
   ]
  },
  {
   "cell_type": "code",
   "execution_count": 29,
   "metadata": {},
   "outputs": [
    {
     "name": "stdout",
     "output_type": "stream",
     "text": [
      "157\n",
      "157\n",
      "157\n"
     ]
    }
   ],
   "source": [
    "print(len(document_metadatas))\n",
    "print(len(document_ids))\n",
    "print(len(document_embeddings))"
   ]
  },
  {
   "attachments": {},
   "cell_type": "markdown",
   "metadata": {},
   "source": [
    "Zipping the IDs, embeddings, and metadata together"
   ]
  },
  {
   "cell_type": "code",
   "execution_count": 30,
   "metadata": {},
   "outputs": [],
   "source": [
    "records = zip(document_ids, document_embeddings, document_metadatas)"
   ]
  },
  {
   "attachments": {},
   "cell_type": "markdown",
   "metadata": {},
   "source": [
    "Initiating Pinecone things"
   ]
  },
  {
   "cell_type": "code",
   "execution_count": 31,
   "metadata": {},
   "outputs": [
    {
     "data": {
      "text/plain": [
       "IndexDescription(name='uiuc-chatbot-deduped', metric='cosine', replicas=1, dimension=1024.0, shards=1, pods=1, pod_type='p1.x1', status={'ready': True, 'state': 'Ready'}, metadata_config=None, source_collection='')"
      ]
     },
     "execution_count": 31,
     "metadata": {},
     "output_type": "execute_result"
    }
   ],
   "source": [
    "# upserting the embeddings tuple to pinecone\n",
    "\n",
    "pinecone_index = pinecone.Index(\"uiuc-chatbot-deduped\")\n",
    "pinecone.init(api_key=os.environ['PINECONE_API_KEY'], environment=\"us-east4-gcp\")\n",
    "\n",
    "pinecone.describe_index(\"uiuc-chatbot-deduped\")"
   ]
  },
  {
   "attachments": {},
   "cell_type": "markdown",
   "metadata": {},
   "source": [
    "Upserting the zipped data to Pinecone"
   ]
  },
  {
   "cell_type": "code",
   "execution_count": 32,
   "metadata": {},
   "outputs": [
    {
     "data": {
      "text/plain": [
       "{'upserted_count': 157}"
      ]
     },
     "execution_count": 32,
     "metadata": {},
     "output_type": "execute_result"
    }
   ],
   "source": [
    "pinecone_index.upsert(vectors=records)"
   ]
  },
  {
   "cell_type": "code",
   "execution_count": 10,
   "metadata": {},
   "outputs": [],
   "source": [
    "# what do we have after cleaning?\n",
    "# a nested list of all the documents and a list of their individual metadatas\n",
    "\n",
    "# todo next: create IDs of each file and generate embeddings using the open assistant tokenizer\n",
    "# upload the (ID, embedding, metadata) to pinecone --> ask Kastan if we need to create a separate index\n",
    "\n",
    "# try llamahub too?"
   ]
  }
 ],
 "metadata": {
  "kernelspec": {
   "display_name": "Python 3",
   "language": "python",
   "name": "python3"
  },
  "language_info": {
   "codemirror_mode": {
    "name": "ipython",
    "version": 3
   },
   "file_extension": ".py",
   "mimetype": "text/x-python",
   "name": "python",
   "nbconvert_exporter": "python",
   "pygments_lexer": "ipython3",
   "version": "3.11.2"
  },
  "orig_nbformat": 4
 },
 "nbformat": 4,
 "nbformat_minor": 2
}
